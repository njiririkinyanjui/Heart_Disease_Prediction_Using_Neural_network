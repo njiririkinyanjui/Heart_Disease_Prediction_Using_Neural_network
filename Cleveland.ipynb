{
  "nbformat": 4,
  "nbformat_minor": 0,
  "metadata": {
    "colab": {
      "name": "Cleveland.ipynb",
      "provenance": [],
      "collapsed_sections": [
        "yM--CvlSe8CX",
        "KkwaWp3dhG6a"
      ],
      "include_colab_link": true
    },
    "kernelspec": {
      "name": "python3",
      "display_name": "Python 3"
    },
    "accelerator": "GPU"
  },
  "cells": [
    {
      "cell_type": "markdown",
      "metadata": {
        "id": "view-in-github",
        "colab_type": "text"
      },
      "source": [
        "<a href=\"https://colab.research.google.com/github/njiririkinyanjui/Heart_Disease_Prediction_Using_Neural_network/blob/main/Cleveland.ipynb\" target=\"_parent\"><img src=\"https://colab.research.google.com/assets/colab-badge.svg\" alt=\"Open In Colab\"/></a>"
      ]
    },
    {
      "cell_type": "markdown",
      "metadata": {
        "id": "J_fHwxe5PfxM"
      },
      "source": [
        "##**DEFINE THE QUESTION**##\n",
        "\n",
        "One of the prominent diseases that affect many people during middle or old age is heart disease, and in many cases it eventually leads to fatal complications. One-third of all global deaths are due to heart diseases. Half of the deaths in the United States and in other developed countries are due to heart ailment.\n",
        "\n",
        "This classification model will predict whether the patient has heart disease or not based on various conditions/symptoms of their body.\n",
        "\n",
        "\n"
      ]
    },
    {
      "cell_type": "markdown",
      "metadata": {
        "id": "JW0ex_xjQkJW"
      },
      "source": [
        "##METRICS FOR SUCCESS##\n",
        "Analysis the data, clean and build and implement the models below and determine which model perform better\n",
        "We want to select a classifier model which predict the heart disease with at least 80 accuracy \n",
        "\n",
        "The following models will be used \n",
        "\n",
        "knn = KNeighborsClassifier\n",
        "\n",
        "rf =  RandomForestClassifier\n",
        "\n",
        "ab = AdaBoostClassifier\n",
        "\n",
        "gb = GradientBoostingClassifier\n",
        "\n",
        "NN = Model performance Binary method\n",
        "\n",
        "SVM "
      ]
    },
    {
      "cell_type": "markdown",
      "metadata": {
        "id": "wIoGSj3lQpKQ"
      },
      "source": [
        "# **THE CONTEXT**\n",
        "\n",
        "The Cleveland Heart Disease Database (CHDD) is considered the de facto database for heart disease research \n",
        "Age, sex, chest pain,resting blood presure, serum cholestoral, fasting blood sugar, resting electrocardiographic results, maximum heart rate achieved,exercise induced angina,ST depression induced by exercise relative to rest,the slope of the peak exercise ST segment, number of major vessels, and target are considered to be risk factors for heart disease, and hereditary risk factors such as high blood pressure and diabetes also lead to heart disease\n",
        "We want to classified if patients have heart disease or not according to features given in the dataset. We will try to use this data to create a model which tries predict if a patient has this disease or not. We will use implement various model(classification) algorithm but we want to see if Neutral Network will perform compare to other models."
      ]
    },
    {
      "cell_type": "markdown",
      "metadata": {
        "id": "c2qSVaALczbi"
      },
      "source": [
        "# Importing the libraries"
      ]
    },
    {
      "cell_type": "code",
      "metadata": {
        "id": "dIxfcujyV4tV"
      },
      "source": [
        "# Loading the libraries\n",
        "import pandas as pd\n",
        "import numpy as np\n",
        "import matplotlib.pyplot as plt\n",
        "from scipy import stats\n"
      ],
      "execution_count": 1,
      "outputs": []
    },
    {
      "cell_type": "code",
      "metadata": {
        "id": "0YUvp_XrHNF_"
      },
      "source": [
        "# Reading the data\n",
        "cleveland = pd.read_csv(\"/content/processed.cleveland.data\", encoding='latin-1', names=['age', 'sex', 'cp', 'trestbps', 'chol', 'fbs', 'restecg', 'thalach', 'exang', 'oldpeak', 'slope', 'ca', 'thal', 'target'], na_values='?')"
      ],
      "execution_count": 2,
      "outputs": []
    },
    {
      "cell_type": "markdown",
      "metadata": {
        "id": "jilY_c1FdWhY"
      },
      "source": [
        "## Previewing the dataset"
      ]
    },
    {
      "cell_type": "code",
      "metadata": {
        "id": "Yv_KVVZISIWa",
        "outputId": "7aa1aedc-0566-48e6-94ca-b45f8b8bacfa",
        "colab": {
          "base_uri": "https://localhost:8080/",
          "height": 1000
        }
      },
      "source": [
        "# Reading and viewing the names data\n",
        "with open('heart-disease.names') as description:\n",
        "  names = description.read()\n",
        "  print(names)"
      ],
      "execution_count": 3,
      "outputs": [
        {
          "output_type": "stream",
          "text": [
            "Publication Request: \n",
            "   >>>>>>>>>>>>>>>>>>>>>>>>>>>>>>>>>>>>>>>>>>>>>>>>>>>>>>>>>>>>>>>>>>>>>>\n",
            "   This file describes the contents of the heart-disease directory.\n",
            "\n",
            "   This directory contains 4 databases concerning heart disease diagnosis.\n",
            "   All attributes are numeric-valued.  The data was collected from the\n",
            "   four following locations:\n",
            "\n",
            "     1. Cleveland Clinic Foundation (cleveland.data)\n",
            "     2. Hungarian Institute of Cardiology, Budapest (hungarian.data)\n",
            "     3. V.A. Medical Center, Long Beach, CA (long-beach-va.data)\n",
            "     4. University Hospital, Zurich, Switzerland (switzerland.data)\n",
            "\n",
            "   Each database has the same instance format.  While the databases have 76\n",
            "   raw attributes, only 14 of them are actually used.  Thus I've taken the\n",
            "   liberty of making 2 copies of each database: one with all the attributes\n",
            "   and 1 with the 14 attributes actually used in past experiments.\n",
            "\n",
            "   The authors of the databases have requested:\n",
            "\n",
            "      ...that any publications resulting from the use of the data include the \n",
            "      names of the principal investigator responsible for the data collection\n",
            "      at each institution.  They would be:\n",
            "\n",
            "       1. Hungarian Institute of Cardiology. Budapest: Andras Janosi, M.D.\n",
            "       2. University Hospital, Zurich, Switzerland: William Steinbrunn, M.D.\n",
            "       3. University Hospital, Basel, Switzerland: Matthias Pfisterer, M.D.\n",
            "       4. V.A. Medical Center, Long Beach and Cleveland Clinic Foundation:\n",
            "\t  Robert Detrano, M.D., Ph.D.\n",
            "\n",
            "   Thanks in advance for abiding by this request.\n",
            "\n",
            "   David Aha\n",
            "   July 22, 1988\n",
            "   >>>>>>>>>>>>>>>>>>>>>>>>>>>>>>>>>>>>>>>>>>>>>>>>>>>>>>>>>>>>>>>>>>>>>>\n",
            "\n",
            "1. Title: Heart Disease Databases\n",
            "\n",
            "2. Source Information:\n",
            "   (a) Creators: \n",
            "       -- 1. Hungarian Institute of Cardiology. Budapest: Andras Janosi, M.D.\n",
            "       -- 2. University Hospital, Zurich, Switzerland: William Steinbrunn, M.D.\n",
            "       -- 3. University Hospital, Basel, Switzerland: Matthias Pfisterer, M.D.\n",
            "       -- 4. V.A. Medical Center, Long Beach and Cleveland Clinic Foundation:\n",
            "             Robert Detrano, M.D., Ph.D.\n",
            "   (b) Donor: David W. Aha (aha@ics.uci.edu) (714) 856-8779   \n",
            "   (c) Date: July, 1988\n",
            "\n",
            "3. Past Usage:\n",
            "    1. Detrano,~R., Janosi,~A., Steinbrunn,~W., Pfisterer,~M., Schmid,~J.,\n",
            "       Sandhu,~S., Guppy,~K., Lee,~S., \\& Froelicher,~V. (1989).  {\\it \n",
            "       International application of a new probability algorithm for the \n",
            "       diagnosis of coronary artery disease.}  {\\it American Journal of \n",
            "       Cardiology}, {\\it 64},304--310.\n",
            "       -- International Probability Analysis \n",
            "       -- Address: Robert Detrano, M.D.\n",
            "                   Cardiology 111-C\n",
            "                   V.A. Medical Center\n",
            "                   5901 E. 7th Street\n",
            "                   Long Beach, CA 90028\n",
            "       -- Results in percent accuracy: (for 0.5 probability threshold)\n",
            "             Data Name:  CDF    CADENZA\n",
            "          -- Hungarian   77     74\n",
            "             Long beach  79     77\n",
            "             Swiss       81     81\n",
            "          -- Approximately a 77% correct classification accuracy with a\n",
            "             logistic-regression-derived discriminant function\n",
            "    2. David W. Aha & Dennis Kibler\n",
            "       -- \n",
            "          \n",
            "          \n",
            "          -- Instance-based prediction of heart-disease presence with the \n",
            "             Cleveland database\n",
            "             -- NTgrowth: 77.0% accuracy\n",
            "             --       C4: 74.8% accuracy\n",
            "    3. John Gennari\n",
            "       -- Gennari, J.~H., Langley, P, \\& Fisher, D. (1989). Models of\n",
            "          incremental concept formation. {\\it Artificial Intelligence, 40},\n",
            "          11--61.\n",
            "       -- Results: \n",
            "          -- The CLASSIT conceptual clustering system achieved a 78.9% accuracy\n",
            "             on the Cleveland database.\n",
            "\n",
            "4. Relevant Information:\n",
            "     This database contains 76 attributes, but all published experiments\n",
            "     refer to using a subset of 14 of them.  In particular, the Cleveland\n",
            "     database is the only one that has been used by ML researchers to \n",
            "     this date.  The \"goal\" field refers to the presence of heart disease\n",
            "     in the patient.  It is integer valued from 0 (no presence) to 4.\n",
            "     Experiments with the Cleveland database have concentrated on simply\n",
            "     attempting to distinguish presence (values 1,2,3,4) from absence (value\n",
            "     0).  \n",
            "   \n",
            "     The names and social security numbers of the patients were recently \n",
            "     removed from the database, replaced with dummy values.\n",
            "\n",
            "     One file has been \"processed\", that one containing the Cleveland \n",
            "     database.  All four unprocessed files also exist in this directory.\n",
            "    \n",
            "5. Number of Instances: \n",
            "        Database:    # of instances:\n",
            "          Cleveland: 303\n",
            "          Hungarian: 294\n",
            "        Switzerland: 123\n",
            "      Long Beach VA: 200\n",
            "\n",
            "6. Number of Attributes: 76 (including the predicted attribute)\n",
            "\n",
            "7. Attribute Information:\n",
            "   -- Only 14 used\n",
            "      -- 1. #3  (age)       \n",
            "      -- 2. #4  (sex)       \n",
            "      -- 3. #9  (cp)        \n",
            "      -- 4. #10 (trestbps)  \n",
            "      -- 5. #12 (chol)      \n",
            "      -- 6. #16 (fbs)       \n",
            "      -- 7. #19 (restecg)   \n",
            "      -- 8. #32 (thalach)   \n",
            "      -- 9. #38 (exang)     \n",
            "      -- 10. #40 (oldpeak)   \n",
            "      -- 11. #41 (slope)     \n",
            "      -- 12. #44 (ca)        \n",
            "      -- 13. #51 (thal)      \n",
            "      -- 14. #58 (num)       (the predicted attribute)\n",
            "\n",
            "   -- Complete attribute documentation:\n",
            "      1 id: patient identification number\n",
            "      2 ccf: social security number (I replaced this with a dummy value of 0)\n",
            "      3 age: age in years\n",
            "      4 sex: sex (1 = male; 0 = female)\n",
            "      5 painloc: chest pain location (1 = substernal; 0 = otherwise)\n",
            "      6 painexer (1 = provoked by exertion; 0 = otherwise)\n",
            "      7 relrest (1 = relieved after rest; 0 = otherwise)\n",
            "      8 pncaden (sum of 5, 6, and 7)\n",
            "      9 cp: chest pain type\n",
            "        -- Value 1: typical angina\n",
            "        -- Value 2: atypical angina\n",
            "        -- Value 3: non-anginal pain\n",
            "        -- Value 4: asymptomatic\n",
            "     10 trestbps: resting blood pressure (in mm Hg on admission to the \n",
            "        hospital)\n",
            "     11 htn\n",
            "     12 chol: serum cholestoral in mg/dl\n",
            "     13 smoke: I believe this is 1 = yes; 0 = no (is or is not a smoker)\n",
            "     14 cigs (cigarettes per day)\n",
            "     15 years (number of years as a smoker)\n",
            "     16 fbs: (fasting blood sugar > 120 mg/dl)  (1 = true; 0 = false)\n",
            "     17 dm (1 = history of diabetes; 0 = no such history)\n",
            "     18 famhist: family history of coronary artery disease (1 = yes; 0 = no)\n",
            "     19 restecg: resting electrocardiographic results\n",
            "        -- Value 0: normal\n",
            "        -- Value 1: having ST-T wave abnormality (T wave inversions and/or ST \n",
            "                    elevation or depression of > 0.05 mV)\n",
            "        -- Value 2: showing probable or definite left ventricular hypertrophy\n",
            "                    by Estes' criteria\n",
            "     20 ekgmo (month of exercise ECG reading)\n",
            "     21 ekgday(day of exercise ECG reading)\n",
            "     22 ekgyr (year of exercise ECG reading)\n",
            "     23 dig (digitalis used furing exercise ECG: 1 = yes; 0 = no)\n",
            "     24 prop (Beta blocker used during exercise ECG: 1 = yes; 0 = no)\n",
            "     25 nitr (nitrates used during exercise ECG: 1 = yes; 0 = no)\n",
            "     26 pro (calcium channel blocker used during exercise ECG: 1 = yes; 0 = no)\n",
            "     27 diuretic (diuretic used used during exercise ECG: 1 = yes; 0 = no)\n",
            "     28 proto: exercise protocol\n",
            "          1 = Bruce     \n",
            "          2 = Kottus\n",
            "          3 = McHenry\n",
            "          4 = fast Balke\n",
            "          5 = Balke\n",
            "          6 = Noughton \n",
            "          7 = bike 150 kpa min/min  (Not sure if \"kpa min/min\" is what was \n",
            "              written!)\n",
            "          8 = bike 125 kpa min/min  \n",
            "          9 = bike 100 kpa min/min\n",
            "         10 = bike 75 kpa min/min\n",
            "         11 = bike 50 kpa min/min\n",
            "         12 = arm ergometer\n",
            "     29 thaldur: duration of exercise test in minutes\n",
            "     30 thaltime: time when ST measure depression was noted\n",
            "     31 met: mets achieved\n",
            "     32 thalach: maximum heart rate achieved\n",
            "     33 thalrest: resting heart rate\n",
            "     34 tpeakbps: peak exercise blood pressure (first of 2 parts)\n",
            "     35 tpeakbpd: peak exercise blood pressure (second of 2 parts)\n",
            "     36 dummy\n",
            "     37 trestbpd: resting blood pressure\n",
            "     38 exang: exercise induced angina (1 = yes; 0 = no)\n",
            "     39 xhypo: (1 = yes; 0 = no)\n",
            "     40 oldpeak = ST depression induced by exercise relative to rest\n",
            "     41 slope: the slope of the peak exercise ST segment\n",
            "        -- Value 1: upsloping\n",
            "        -- Value 2: flat\n",
            "        -- Value 3: downsloping\n",
            "     42 rldv5: height at rest\n",
            "     43 rldv5e: height at peak exercise\n",
            "     44 ca: number of major vessels (0-3) colored by flourosopy\n",
            "     45 restckm: irrelevant\n",
            "     46 exerckm: irrelevant\n",
            "     47 restef: rest raidonuclid (sp?) ejection fraction\n",
            "     48 restwm: rest wall (sp?) motion abnormality\n",
            "        0 = none\n",
            "        1 = mild or moderate\n",
            "        2 = moderate or severe\n",
            "        3 = akinesis or dyskmem (sp?)\n",
            "     49 exeref: exercise radinalid (sp?) ejection fraction\n",
            "     50 exerwm: exercise wall (sp?) motion \n",
            "     51 thal: 3 = normal; 6 = fixed defect; 7 = reversable defect\n",
            "     52 thalsev: not used\n",
            "     53 thalpul: not used\n",
            "     54 earlobe: not used\n",
            "     55 cmo: month of cardiac cath (sp?)  (perhaps \"call\")\n",
            "     56 cday: day of cardiac cath (sp?)\n",
            "     57 cyr: year of cardiac cath (sp?)\n",
            "     58 num: diagnosis of heart disease (angiographic disease status)\n",
            "        -- Value 0: < 50% diameter narrowing\n",
            "        -- Value 1: > 50% diameter narrowing\n",
            "        (in any major vessel: attributes 59 through 68 are vessels)\n",
            "     59 lmt\n",
            "     60 ladprox\n",
            "     61 laddist\n",
            "     62 diag\n",
            "     63 cxmain\n",
            "     64 ramus\n",
            "     65 om1\n",
            "     66 om2\n",
            "     67 rcaprox\n",
            "     68 rcadist\n",
            "     69 lvx1: not used\n",
            "     70 lvx2: not used\n",
            "     71 lvx3: not used\n",
            "     72 lvx4: not used\n",
            "     73 lvf: not used\n",
            "     74 cathef: not used\n",
            "     75 junk: not used\n",
            "     76 name: last name of patient \n",
            "\t(I replaced this with the dummy string \"name\")\n",
            "\n",
            "9. Missing Attribute Values: Several.  Distinguished with value -9.0.\n",
            "\n",
            "10. Class Distribution:\n",
            "        Database:      0   1   2   3   4 Total\n",
            "          Cleveland: 164  55  36  35  13   303\n",
            "          Hungarian: 188  37  26  28  15   294\n",
            "        Switzerland:   8  48  32  30   5   123\n",
            "      Long Beach VA:  51  56  41  42  10   200\n",
            "\n"
          ],
          "name": "stdout"
        }
      ]
    },
    {
      "cell_type": "markdown",
      "metadata": {
        "id": "xlwEHgVzWWZx"
      },
      "source": [
        "##**Table 1. Feature information of the cleveland dataset**.\n",
        "\n",
        "S.No\tAttribute Name\tDescription\tRange of Values\n",
        "\n",
        "\n",
        "1. age - age in years\n",
        "2. sex - sex (1 = male; 0 = female)\n",
        "3. cp - chest pain type (1 = typical angina; 2 = atypical angina; 3 = non-anginal pain; 4 = asymptomatic)\n",
        "4. trestbps - resting blood pressure (in mm Hg on admission to the hospital)\n",
        "5. chol - serum cholestoral in mg/dl\n",
        "6. fbs - fasting blood sugar > 120 mg/dl (1 = true; 0 = false)\n",
        "7. restecg - resting electrocardiographic results (0 = normal; 1 = having ST-T\n",
        "8. thalach - maximum heart rate achieved\n",
        "9. exang - exercise induced angina (1 = yes; 0 = no)\n",
        "10. oldpeak - ST depression induced by exercise relative to rest\n",
        "11. slope - the slope of the peak exercise ST segment (1 = upsloping; 2 = flat; 3 = downsloping)\n",
        "12. ca - number of major vessels (0-3) colored by flourosopy\n",
        "13. thal - 3 = normal; 6 = fixed defect; 7 = reversable defect\n",
        "14. target - the predicted attribute - diagnosis of heart disease (angiographic disease status) (Value 0 = < 50% diameter narrowing; Value 1 = > 50% "
      ]
    },
    {
      "cell_type": "code",
      "metadata": {
        "id": "_aATaCijdZsm",
        "outputId": "4b7e9dbf-c3e3-46ea-9994-8fafabbef8ae",
        "colab": {
          "base_uri": "https://localhost:8080/",
          "height": 202
        }
      },
      "source": [
        "# The cleveland sample of dataset preview\n",
        "cleveland.sample(n=5)"
      ],
      "execution_count": 4,
      "outputs": [
        {
          "output_type": "execute_result",
          "data": {
            "text/html": [
              "<div>\n",
              "<style scoped>\n",
              "    .dataframe tbody tr th:only-of-type {\n",
              "        vertical-align: middle;\n",
              "    }\n",
              "\n",
              "    .dataframe tbody tr th {\n",
              "        vertical-align: top;\n",
              "    }\n",
              "\n",
              "    .dataframe thead th {\n",
              "        text-align: right;\n",
              "    }\n",
              "</style>\n",
              "<table border=\"1\" class=\"dataframe\">\n",
              "  <thead>\n",
              "    <tr style=\"text-align: right;\">\n",
              "      <th></th>\n",
              "      <th>age</th>\n",
              "      <th>sex</th>\n",
              "      <th>cp</th>\n",
              "      <th>trestbps</th>\n",
              "      <th>chol</th>\n",
              "      <th>fbs</th>\n",
              "      <th>restecg</th>\n",
              "      <th>thalach</th>\n",
              "      <th>exang</th>\n",
              "      <th>oldpeak</th>\n",
              "      <th>slope</th>\n",
              "      <th>ca</th>\n",
              "      <th>thal</th>\n",
              "      <th>target</th>\n",
              "    </tr>\n",
              "  </thead>\n",
              "  <tbody>\n",
              "    <tr>\n",
              "      <th>18</th>\n",
              "      <td>48.0</td>\n",
              "      <td>0.0</td>\n",
              "      <td>3.0</td>\n",
              "      <td>130.0</td>\n",
              "      <td>275.0</td>\n",
              "      <td>0.0</td>\n",
              "      <td>0.0</td>\n",
              "      <td>139.0</td>\n",
              "      <td>0.0</td>\n",
              "      <td>0.2</td>\n",
              "      <td>1.0</td>\n",
              "      <td>0.0</td>\n",
              "      <td>3.0</td>\n",
              "      <td>0</td>\n",
              "    </tr>\n",
              "    <tr>\n",
              "      <th>9</th>\n",
              "      <td>53.0</td>\n",
              "      <td>1.0</td>\n",
              "      <td>4.0</td>\n",
              "      <td>140.0</td>\n",
              "      <td>203.0</td>\n",
              "      <td>1.0</td>\n",
              "      <td>2.0</td>\n",
              "      <td>155.0</td>\n",
              "      <td>1.0</td>\n",
              "      <td>3.1</td>\n",
              "      <td>3.0</td>\n",
              "      <td>0.0</td>\n",
              "      <td>7.0</td>\n",
              "      <td>1</td>\n",
              "    </tr>\n",
              "    <tr>\n",
              "      <th>232</th>\n",
              "      <td>49.0</td>\n",
              "      <td>1.0</td>\n",
              "      <td>3.0</td>\n",
              "      <td>118.0</td>\n",
              "      <td>149.0</td>\n",
              "      <td>0.0</td>\n",
              "      <td>2.0</td>\n",
              "      <td>126.0</td>\n",
              "      <td>0.0</td>\n",
              "      <td>0.8</td>\n",
              "      <td>1.0</td>\n",
              "      <td>3.0</td>\n",
              "      <td>3.0</td>\n",
              "      <td>1</td>\n",
              "    </tr>\n",
              "    <tr>\n",
              "      <th>129</th>\n",
              "      <td>62.0</td>\n",
              "      <td>0.0</td>\n",
              "      <td>4.0</td>\n",
              "      <td>124.0</td>\n",
              "      <td>209.0</td>\n",
              "      <td>0.0</td>\n",
              "      <td>0.0</td>\n",
              "      <td>163.0</td>\n",
              "      <td>0.0</td>\n",
              "      <td>0.0</td>\n",
              "      <td>1.0</td>\n",
              "      <td>0.0</td>\n",
              "      <td>3.0</td>\n",
              "      <td>0</td>\n",
              "    </tr>\n",
              "    <tr>\n",
              "      <th>20</th>\n",
              "      <td>64.0</td>\n",
              "      <td>1.0</td>\n",
              "      <td>1.0</td>\n",
              "      <td>110.0</td>\n",
              "      <td>211.0</td>\n",
              "      <td>0.0</td>\n",
              "      <td>2.0</td>\n",
              "      <td>144.0</td>\n",
              "      <td>1.0</td>\n",
              "      <td>1.8</td>\n",
              "      <td>2.0</td>\n",
              "      <td>0.0</td>\n",
              "      <td>3.0</td>\n",
              "      <td>0</td>\n",
              "    </tr>\n",
              "  </tbody>\n",
              "</table>\n",
              "</div>"
            ],
            "text/plain": [
              "      age  sex   cp  trestbps   chol  ...  oldpeak  slope   ca  thal  target\n",
              "18   48.0  0.0  3.0     130.0  275.0  ...      0.2    1.0  0.0   3.0       0\n",
              "9    53.0  1.0  4.0     140.0  203.0  ...      3.1    3.0  0.0   7.0       1\n",
              "232  49.0  1.0  3.0     118.0  149.0  ...      0.8    1.0  3.0   3.0       1\n",
              "129  62.0  0.0  4.0     124.0  209.0  ...      0.0    1.0  0.0   3.0       0\n",
              "20   64.0  1.0  1.0     110.0  211.0  ...      1.8    2.0  0.0   3.0       0\n",
              "\n",
              "[5 rows x 14 columns]"
            ]
          },
          "metadata": {
            "tags": []
          },
          "execution_count": 4
        }
      ]
    },
    {
      "cell_type": "code",
      "metadata": {
        "id": "cQt3XcKXdqfY",
        "outputId": "8f66a03a-d3f7-4bb6-b409-3aa47cc83ca0",
        "colab": {
          "base_uri": "https://localhost:8080/",
          "height": 202
        }
      },
      "source": [
        "# Previewing the head of the our dataset\n",
        "cleveland.head()"
      ],
      "execution_count": 5,
      "outputs": [
        {
          "output_type": "execute_result",
          "data": {
            "text/html": [
              "<div>\n",
              "<style scoped>\n",
              "    .dataframe tbody tr th:only-of-type {\n",
              "        vertical-align: middle;\n",
              "    }\n",
              "\n",
              "    .dataframe tbody tr th {\n",
              "        vertical-align: top;\n",
              "    }\n",
              "\n",
              "    .dataframe thead th {\n",
              "        text-align: right;\n",
              "    }\n",
              "</style>\n",
              "<table border=\"1\" class=\"dataframe\">\n",
              "  <thead>\n",
              "    <tr style=\"text-align: right;\">\n",
              "      <th></th>\n",
              "      <th>age</th>\n",
              "      <th>sex</th>\n",
              "      <th>cp</th>\n",
              "      <th>trestbps</th>\n",
              "      <th>chol</th>\n",
              "      <th>fbs</th>\n",
              "      <th>restecg</th>\n",
              "      <th>thalach</th>\n",
              "      <th>exang</th>\n",
              "      <th>oldpeak</th>\n",
              "      <th>slope</th>\n",
              "      <th>ca</th>\n",
              "      <th>thal</th>\n",
              "      <th>target</th>\n",
              "    </tr>\n",
              "  </thead>\n",
              "  <tbody>\n",
              "    <tr>\n",
              "      <th>0</th>\n",
              "      <td>63.0</td>\n",
              "      <td>1.0</td>\n",
              "      <td>1.0</td>\n",
              "      <td>145.0</td>\n",
              "      <td>233.0</td>\n",
              "      <td>1.0</td>\n",
              "      <td>2.0</td>\n",
              "      <td>150.0</td>\n",
              "      <td>0.0</td>\n",
              "      <td>2.3</td>\n",
              "      <td>3.0</td>\n",
              "      <td>0.0</td>\n",
              "      <td>6.0</td>\n",
              "      <td>0</td>\n",
              "    </tr>\n",
              "    <tr>\n",
              "      <th>1</th>\n",
              "      <td>67.0</td>\n",
              "      <td>1.0</td>\n",
              "      <td>4.0</td>\n",
              "      <td>160.0</td>\n",
              "      <td>286.0</td>\n",
              "      <td>0.0</td>\n",
              "      <td>2.0</td>\n",
              "      <td>108.0</td>\n",
              "      <td>1.0</td>\n",
              "      <td>1.5</td>\n",
              "      <td>2.0</td>\n",
              "      <td>3.0</td>\n",
              "      <td>3.0</td>\n",
              "      <td>2</td>\n",
              "    </tr>\n",
              "    <tr>\n",
              "      <th>2</th>\n",
              "      <td>67.0</td>\n",
              "      <td>1.0</td>\n",
              "      <td>4.0</td>\n",
              "      <td>120.0</td>\n",
              "      <td>229.0</td>\n",
              "      <td>0.0</td>\n",
              "      <td>2.0</td>\n",
              "      <td>129.0</td>\n",
              "      <td>1.0</td>\n",
              "      <td>2.6</td>\n",
              "      <td>2.0</td>\n",
              "      <td>2.0</td>\n",
              "      <td>7.0</td>\n",
              "      <td>1</td>\n",
              "    </tr>\n",
              "    <tr>\n",
              "      <th>3</th>\n",
              "      <td>37.0</td>\n",
              "      <td>1.0</td>\n",
              "      <td>3.0</td>\n",
              "      <td>130.0</td>\n",
              "      <td>250.0</td>\n",
              "      <td>0.0</td>\n",
              "      <td>0.0</td>\n",
              "      <td>187.0</td>\n",
              "      <td>0.0</td>\n",
              "      <td>3.5</td>\n",
              "      <td>3.0</td>\n",
              "      <td>0.0</td>\n",
              "      <td>3.0</td>\n",
              "      <td>0</td>\n",
              "    </tr>\n",
              "    <tr>\n",
              "      <th>4</th>\n",
              "      <td>41.0</td>\n",
              "      <td>0.0</td>\n",
              "      <td>2.0</td>\n",
              "      <td>130.0</td>\n",
              "      <td>204.0</td>\n",
              "      <td>0.0</td>\n",
              "      <td>2.0</td>\n",
              "      <td>172.0</td>\n",
              "      <td>0.0</td>\n",
              "      <td>1.4</td>\n",
              "      <td>1.0</td>\n",
              "      <td>0.0</td>\n",
              "      <td>3.0</td>\n",
              "      <td>0</td>\n",
              "    </tr>\n",
              "  </tbody>\n",
              "</table>\n",
              "</div>"
            ],
            "text/plain": [
              "    age  sex   cp  trestbps   chol  ...  oldpeak  slope   ca  thal  target\n",
              "0  63.0  1.0  1.0     145.0  233.0  ...      2.3    3.0  0.0   6.0       0\n",
              "1  67.0  1.0  4.0     160.0  286.0  ...      1.5    2.0  3.0   3.0       2\n",
              "2  67.0  1.0  4.0     120.0  229.0  ...      2.6    2.0  2.0   7.0       1\n",
              "3  37.0  1.0  3.0     130.0  250.0  ...      3.5    3.0  0.0   3.0       0\n",
              "4  41.0  0.0  2.0     130.0  204.0  ...      1.4    1.0  0.0   3.0       0\n",
              "\n",
              "[5 rows x 14 columns]"
            ]
          },
          "metadata": {
            "tags": []
          },
          "execution_count": 5
        }
      ]
    },
    {
      "cell_type": "code",
      "metadata": {
        "id": "KA2WuezVWyXW",
        "outputId": "a822fc10-0d10-4167-d63a-6a1622072ee5",
        "colab": {
          "base_uri": "https://localhost:8080/",
          "height": 202
        }
      },
      "source": [
        "# Previewing the tail of our dataset\n",
        "cleveland.tail()"
      ],
      "execution_count": 6,
      "outputs": [
        {
          "output_type": "execute_result",
          "data": {
            "text/html": [
              "<div>\n",
              "<style scoped>\n",
              "    .dataframe tbody tr th:only-of-type {\n",
              "        vertical-align: middle;\n",
              "    }\n",
              "\n",
              "    .dataframe tbody tr th {\n",
              "        vertical-align: top;\n",
              "    }\n",
              "\n",
              "    .dataframe thead th {\n",
              "        text-align: right;\n",
              "    }\n",
              "</style>\n",
              "<table border=\"1\" class=\"dataframe\">\n",
              "  <thead>\n",
              "    <tr style=\"text-align: right;\">\n",
              "      <th></th>\n",
              "      <th>age</th>\n",
              "      <th>sex</th>\n",
              "      <th>cp</th>\n",
              "      <th>trestbps</th>\n",
              "      <th>chol</th>\n",
              "      <th>fbs</th>\n",
              "      <th>restecg</th>\n",
              "      <th>thalach</th>\n",
              "      <th>exang</th>\n",
              "      <th>oldpeak</th>\n",
              "      <th>slope</th>\n",
              "      <th>ca</th>\n",
              "      <th>thal</th>\n",
              "      <th>target</th>\n",
              "    </tr>\n",
              "  </thead>\n",
              "  <tbody>\n",
              "    <tr>\n",
              "      <th>298</th>\n",
              "      <td>45.0</td>\n",
              "      <td>1.0</td>\n",
              "      <td>1.0</td>\n",
              "      <td>110.0</td>\n",
              "      <td>264.0</td>\n",
              "      <td>0.0</td>\n",
              "      <td>0.0</td>\n",
              "      <td>132.0</td>\n",
              "      <td>0.0</td>\n",
              "      <td>1.2</td>\n",
              "      <td>2.0</td>\n",
              "      <td>0.0</td>\n",
              "      <td>7.0</td>\n",
              "      <td>1</td>\n",
              "    </tr>\n",
              "    <tr>\n",
              "      <th>299</th>\n",
              "      <td>68.0</td>\n",
              "      <td>1.0</td>\n",
              "      <td>4.0</td>\n",
              "      <td>144.0</td>\n",
              "      <td>193.0</td>\n",
              "      <td>1.0</td>\n",
              "      <td>0.0</td>\n",
              "      <td>141.0</td>\n",
              "      <td>0.0</td>\n",
              "      <td>3.4</td>\n",
              "      <td>2.0</td>\n",
              "      <td>2.0</td>\n",
              "      <td>7.0</td>\n",
              "      <td>2</td>\n",
              "    </tr>\n",
              "    <tr>\n",
              "      <th>300</th>\n",
              "      <td>57.0</td>\n",
              "      <td>1.0</td>\n",
              "      <td>4.0</td>\n",
              "      <td>130.0</td>\n",
              "      <td>131.0</td>\n",
              "      <td>0.0</td>\n",
              "      <td>0.0</td>\n",
              "      <td>115.0</td>\n",
              "      <td>1.0</td>\n",
              "      <td>1.2</td>\n",
              "      <td>2.0</td>\n",
              "      <td>1.0</td>\n",
              "      <td>7.0</td>\n",
              "      <td>3</td>\n",
              "    </tr>\n",
              "    <tr>\n",
              "      <th>301</th>\n",
              "      <td>57.0</td>\n",
              "      <td>0.0</td>\n",
              "      <td>2.0</td>\n",
              "      <td>130.0</td>\n",
              "      <td>236.0</td>\n",
              "      <td>0.0</td>\n",
              "      <td>2.0</td>\n",
              "      <td>174.0</td>\n",
              "      <td>0.0</td>\n",
              "      <td>0.0</td>\n",
              "      <td>2.0</td>\n",
              "      <td>1.0</td>\n",
              "      <td>3.0</td>\n",
              "      <td>1</td>\n",
              "    </tr>\n",
              "    <tr>\n",
              "      <th>302</th>\n",
              "      <td>38.0</td>\n",
              "      <td>1.0</td>\n",
              "      <td>3.0</td>\n",
              "      <td>138.0</td>\n",
              "      <td>175.0</td>\n",
              "      <td>0.0</td>\n",
              "      <td>0.0</td>\n",
              "      <td>173.0</td>\n",
              "      <td>0.0</td>\n",
              "      <td>0.0</td>\n",
              "      <td>1.0</td>\n",
              "      <td>NaN</td>\n",
              "      <td>3.0</td>\n",
              "      <td>0</td>\n",
              "    </tr>\n",
              "  </tbody>\n",
              "</table>\n",
              "</div>"
            ],
            "text/plain": [
              "      age  sex   cp  trestbps   chol  ...  oldpeak  slope   ca  thal  target\n",
              "298  45.0  1.0  1.0     110.0  264.0  ...      1.2    2.0  0.0   7.0       1\n",
              "299  68.0  1.0  4.0     144.0  193.0  ...      3.4    2.0  2.0   7.0       2\n",
              "300  57.0  1.0  4.0     130.0  131.0  ...      1.2    2.0  1.0   7.0       3\n",
              "301  57.0  0.0  2.0     130.0  236.0  ...      0.0    2.0  1.0   3.0       1\n",
              "302  38.0  1.0  3.0     138.0  175.0  ...      0.0    1.0  NaN   3.0       0\n",
              "\n",
              "[5 rows x 14 columns]"
            ]
          },
          "metadata": {
            "tags": []
          },
          "execution_count": 6
        }
      ]
    },
    {
      "cell_type": "code",
      "metadata": {
        "id": "I6jXxJ9NHFtX",
        "outputId": "e8a48888-1148-49ba-c21a-651904fd80a8",
        "colab": {
          "base_uri": "https://localhost:8080/",
          "height": 381
        }
      },
      "source": [
        "cleveland.info()"
      ],
      "execution_count": 7,
      "outputs": [
        {
          "output_type": "stream",
          "text": [
            "<class 'pandas.core.frame.DataFrame'>\n",
            "RangeIndex: 303 entries, 0 to 302\n",
            "Data columns (total 14 columns):\n",
            " #   Column    Non-Null Count  Dtype  \n",
            "---  ------    --------------  -----  \n",
            " 0   age       303 non-null    float64\n",
            " 1   sex       303 non-null    float64\n",
            " 2   cp        303 non-null    float64\n",
            " 3   trestbps  303 non-null    float64\n",
            " 4   chol      303 non-null    float64\n",
            " 5   fbs       303 non-null    float64\n",
            " 6   restecg   303 non-null    float64\n",
            " 7   thalach   303 non-null    float64\n",
            " 8   exang     303 non-null    float64\n",
            " 9   oldpeak   303 non-null    float64\n",
            " 10  slope     303 non-null    float64\n",
            " 11  ca        299 non-null    float64\n",
            " 12  thal      301 non-null    float64\n",
            " 13  target    303 non-null    int64  \n",
            "dtypes: float64(13), int64(1)\n",
            "memory usage: 33.3 KB\n"
          ],
          "name": "stdout"
        }
      ]
    },
    {
      "cell_type": "markdown",
      "metadata": {
        "id": "yM--CvlSe8CX"
      },
      "source": [
        "## Data Cleaning"
      ]
    },
    {
      "cell_type": "code",
      "metadata": {
        "id": "_J9B80CdeV5I",
        "outputId": "0da84479-00eb-49e1-8c95-dbd004128034",
        "colab": {
          "base_uri": "https://localhost:8080/",
          "height": 34
        }
      },
      "source": [
        "# Determining the number of records\n",
        "print(\"cleveland shape:\", cleveland.shape)\n"
      ],
      "execution_count": 8,
      "outputs": [
        {
          "output_type": "stream",
          "text": [
            "cleveland shape: (303, 14)\n"
          ],
          "name": "stdout"
        }
      ]
    },
    {
      "cell_type": "code",
      "metadata": {
        "id": "Z5NoeJnnejWU",
        "outputId": "5afea5f6-c298-4602-ad4d-78da069f18a3",
        "colab": {
          "base_uri": "https://localhost:8080/",
          "height": 381
        }
      },
      "source": [
        "# Checking the info of each dataset\n",
        "cleveland.info()"
      ],
      "execution_count": 9,
      "outputs": [
        {
          "output_type": "stream",
          "text": [
            "<class 'pandas.core.frame.DataFrame'>\n",
            "RangeIndex: 303 entries, 0 to 302\n",
            "Data columns (total 14 columns):\n",
            " #   Column    Non-Null Count  Dtype  \n",
            "---  ------    --------------  -----  \n",
            " 0   age       303 non-null    float64\n",
            " 1   sex       303 non-null    float64\n",
            " 2   cp        303 non-null    float64\n",
            " 3   trestbps  303 non-null    float64\n",
            " 4   chol      303 non-null    float64\n",
            " 5   fbs       303 non-null    float64\n",
            " 6   restecg   303 non-null    float64\n",
            " 7   thalach   303 non-null    float64\n",
            " 8   exang     303 non-null    float64\n",
            " 9   oldpeak   303 non-null    float64\n",
            " 10  slope     303 non-null    float64\n",
            " 11  ca        299 non-null    float64\n",
            " 12  thal      301 non-null    float64\n",
            " 13  target    303 non-null    int64  \n",
            "dtypes: float64(13), int64(1)\n",
            "memory usage: 33.3 KB\n"
          ],
          "name": "stdout"
        }
      ]
    },
    {
      "cell_type": "code",
      "metadata": {
        "id": "lEc0DJJte1dD",
        "outputId": "ec3e9ba1-d91f-424d-ffde-23ab2bc97e1f",
        "colab": {
          "base_uri": "https://localhost:8080/",
          "height": 34
        }
      },
      "source": [
        "#checking for duplicates of the cleveland\n",
        "cleveland.duplicated().any()"
      ],
      "execution_count": 10,
      "outputs": [
        {
          "output_type": "execute_result",
          "data": {
            "text/plain": [
              "False"
            ]
          },
          "metadata": {
            "tags": []
          },
          "execution_count": 10
        }
      ]
    },
    {
      "cell_type": "markdown",
      "metadata": {
        "id": "veTHAkORfVy7"
      },
      "source": [
        "* No duplicates cleveland dataset"
      ]
    },
    {
      "cell_type": "code",
      "metadata": {
        "id": "tT1yAx8UfafX",
        "outputId": "411df154-5db1-4a6e-af0e-5f969fb48067",
        "colab": {
          "base_uri": "https://localhost:8080/",
          "height": 277
        }
      },
      "source": [
        "# Checking for missing values in the cleveland dataset\n",
        "cleveland.isnull().sum()"
      ],
      "execution_count": 11,
      "outputs": [
        {
          "output_type": "execute_result",
          "data": {
            "text/plain": [
              "age         0\n",
              "sex         0\n",
              "cp          0\n",
              "trestbps    0\n",
              "chol        0\n",
              "fbs         0\n",
              "restecg     0\n",
              "thalach     0\n",
              "exang       0\n",
              "oldpeak     0\n",
              "slope       0\n",
              "ca          4\n",
              "thal        2\n",
              "target      0\n",
              "dtype: int64"
            ]
          },
          "metadata": {
            "tags": []
          },
          "execution_count": 11
        }
      ]
    },
    {
      "cell_type": "markdown",
      "metadata": {
        "id": "JlsrX3W4fqaR"
      },
      "source": [
        "* There are 6 missing values in the cleveland datasets"
      ]
    },
    {
      "cell_type": "code",
      "metadata": {
        "id": "3lwPUrgVc3KZ",
        "outputId": "ce59b0b3-31d5-4772-d85c-99d0b3516aea",
        "colab": {
          "base_uri": "https://localhost:8080/",
          "height": 277
        }
      },
      "source": [
        "# Dropping the missing values\n",
        "cleveland = cleveland.dropna()\n",
        "print(cleveland.isnull().sum())"
      ],
      "execution_count": 12,
      "outputs": [
        {
          "output_type": "stream",
          "text": [
            "age         0\n",
            "sex         0\n",
            "cp          0\n",
            "trestbps    0\n",
            "chol        0\n",
            "fbs         0\n",
            "restecg     0\n",
            "thalach     0\n",
            "exang       0\n",
            "oldpeak     0\n",
            "slope       0\n",
            "ca          0\n",
            "thal        0\n",
            "target      0\n",
            "dtype: int64\n"
          ],
          "name": "stdout"
        }
      ]
    },
    {
      "cell_type": "code",
      "metadata": {
        "id": "LisB1bIzN555"
      },
      "source": [
        "cleveland[['age', 'sex', 'cp', 'trestbps', 'chol', 'fbs', 'restecg', 'thalach', 'exang', 'slope', 'ca', 'thal', 'target']] = cleveland[['age', 'sex', 'cp', 'trestbps', 'chol', 'fbs', 'restecg', 'thalach', 'exang', 'slope', 'ca', 'thal', 'target']].astype(int)"
      ],
      "execution_count": 13,
      "outputs": []
    },
    {
      "cell_type": "code",
      "metadata": {
        "id": "3CJ82KqzO1iW",
        "outputId": "5e0911d4-cdae-435b-fdc5-d9e672f12f16",
        "colab": {
          "base_uri": "https://localhost:8080/",
          "height": 381
        }
      },
      "source": [
        "cleveland.info()"
      ],
      "execution_count": 14,
      "outputs": [
        {
          "output_type": "stream",
          "text": [
            "<class 'pandas.core.frame.DataFrame'>\n",
            "Int64Index: 297 entries, 0 to 301\n",
            "Data columns (total 14 columns):\n",
            " #   Column    Non-Null Count  Dtype  \n",
            "---  ------    --------------  -----  \n",
            " 0   age       297 non-null    int64  \n",
            " 1   sex       297 non-null    int64  \n",
            " 2   cp        297 non-null    int64  \n",
            " 3   trestbps  297 non-null    int64  \n",
            " 4   chol      297 non-null    int64  \n",
            " 5   fbs       297 non-null    int64  \n",
            " 6   restecg   297 non-null    int64  \n",
            " 7   thalach   297 non-null    int64  \n",
            " 8   exang     297 non-null    int64  \n",
            " 9   oldpeak   297 non-null    float64\n",
            " 10  slope     297 non-null    int64  \n",
            " 11  ca        297 non-null    int64  \n",
            " 12  thal      297 non-null    int64  \n",
            " 13  target    297 non-null    int64  \n",
            "dtypes: float64(1), int64(13)\n",
            "memory usage: 34.8 KB\n"
          ],
          "name": "stdout"
        }
      ]
    },
    {
      "cell_type": "code",
      "metadata": {
        "id": "56Eb4LKgPHMi",
        "outputId": "95b16d96-cd2b-4d82-8912-78cb704a79ca",
        "colab": {
          "base_uri": "https://localhost:8080/",
          "height": 277
        }
      },
      "source": [
        "# transform data to numeric to enable further analysis\n",
        "cleveland = cleveland.apply(pd.to_numeric)\n",
        "cleveland.dtypes"
      ],
      "execution_count": 15,
      "outputs": [
        {
          "output_type": "execute_result",
          "data": {
            "text/plain": [
              "age           int64\n",
              "sex           int64\n",
              "cp            int64\n",
              "trestbps      int64\n",
              "chol          int64\n",
              "fbs           int64\n",
              "restecg       int64\n",
              "thalach       int64\n",
              "exang         int64\n",
              "oldpeak     float64\n",
              "slope         int64\n",
              "ca            int64\n",
              "thal          int64\n",
              "target        int64\n",
              "dtype: object"
            ]
          },
          "metadata": {
            "tags": []
          },
          "execution_count": 15
        }
      ]
    },
    {
      "cell_type": "code",
      "metadata": {
        "id": "GZdhSSXbfu50",
        "outputId": "38a6aad8-951d-4310-a577-87b304dde7a1",
        "colab": {
          "base_uri": "https://localhost:8080/",
          "height": 277
        }
      },
      "source": [
        "# Checking for outliers\n",
        "\n",
        "Q1 = cleveland.quantile(0.25)\n",
        "Q3 = cleveland.quantile(0.75)\n",
        "IQR = Q3 - Q1\n",
        "print(IQR)"
      ],
      "execution_count": 16,
      "outputs": [
        {
          "output_type": "stream",
          "text": [
            "age         13.0\n",
            "sex          1.0\n",
            "cp           1.0\n",
            "trestbps    20.0\n",
            "chol        65.0\n",
            "fbs          0.0\n",
            "restecg      2.0\n",
            "thalach     33.0\n",
            "exang        1.0\n",
            "oldpeak      1.6\n",
            "slope        1.0\n",
            "ca           1.0\n",
            "thal         4.0\n",
            "target       2.0\n",
            "dtype: float64\n"
          ],
          "name": "stdout"
        }
      ]
    },
    {
      "cell_type": "code",
      "metadata": {
        "id": "cFaBdFMJXh6_",
        "outputId": "90b6e093-b6dd-4ef3-cefe-e4fe7f2cebd3",
        "colab": {
          "base_uri": "https://localhost:8080/",
          "height": 592
        }
      },
      "source": [
        "# Graphically showing the Outliers,\n",
        "cleveland.boxplot(figsize=(15,10))\n",
        "plt.show()"
      ],
      "execution_count": 17,
      "outputs": [
        {
          "output_type": "display_data",
          "data": {
            "image/png": "[encoded data removed]",
            "text/plain": [
              "<Figure size 1080x720 with 1 Axes>"
            ]
          },
          "metadata": {
            "tags": [],
            "needs_background": "light"
          }
        }
      ]
    },
    {
      "cell_type": "code",
      "metadata": {
        "id": "MGLTw2j5g3YM",
        "outputId": "66672373-8b4b-4fae-e8ab-464f5dca69dd",
        "colab": {
          "base_uri": "https://localhost:8080/",
          "height": 34
        }
      },
      "source": [
        "# eliminating outliers\n",
        "df1_out = cleveland[~((cleveland < (Q1 - 1.5 * IQR)) |(cleveland > (Q3 + 1.5 * IQR))).any(axis=1)]\n",
        "df1_out.shape\n",
        "\n",
        "# Since we're losing most of the data after dropping the outliers we shall use the data with the outliers present\n",
        "# around 75 lost attributes we don't drop outliers"
      ],
      "execution_count": 18,
      "outputs": [
        {
          "output_type": "execute_result",
          "data": {
            "text/plain": [
              "(212, 14)"
            ]
          },
          "metadata": {
            "tags": []
          },
          "execution_count": 18
        }
      ]
    },
    {
      "cell_type": "markdown",
      "metadata": {
        "id": "KkwaWp3dhG6a"
      },
      "source": [
        "##Exploratory Data Analysis (EDA)##\n",
        "The goal here is to find out more about the dataset.\n",
        "\n",
        "1. What question(s) are you trying to solve?\n",
        "\n",
        "2. What kind of data do we have and how do we treat different types?\n",
        "\n",
        "3. What's missing from the data and how do you deal with it?\n",
        "\n",
        "4. Where are the outliers and why should you care about them?\n",
        "\n",
        "5. How can you add, change or remove features to get more out of your data?"
      ]
    },
    {
      "cell_type": "markdown",
      "metadata": {
        "id": "lMqawqB8hMt7"
      },
      "source": [
        "* Univariate EDA"
      ]
    },
    {
      "cell_type": "code",
      "metadata": {
        "id": "OkgzVAfWhMIp",
        "outputId": "b4bbfde2-c775-4017-d8dc-0185232a9204",
        "colab": {
          "base_uri": "https://localhost:8080/",
          "height": 294
        }
      },
      "source": [
        "cleveland.describe()"
      ],
      "execution_count": 19,
      "outputs": [
        {
          "output_type": "execute_result",
          "data": {
            "text/html": [
              "<div>\n",
              "<style scoped>\n",
              "    .dataframe tbody tr th:only-of-type {\n",
              "        vertical-align: middle;\n",
              "    }\n",
              "\n",
              "    .dataframe tbody tr th {\n",
              "        vertical-align: top;\n",
              "    }\n",
              "\n",
              "    .dataframe thead th {\n",
              "        text-align: right;\n",
              "    }\n",
              "</style>\n",
              "<table border=\"1\" class=\"dataframe\">\n",
              "  <thead>\n",
              "    <tr style=\"text-align: right;\">\n",
              "      <th></th>\n",
              "      <th>age</th>\n",
              "      <th>sex</th>\n",
              "      <th>cp</th>\n",
              "      <th>trestbps</th>\n",
              "      <th>chol</th>\n",
              "      <th>fbs</th>\n",
              "      <th>restecg</th>\n",
              "      <th>thalach</th>\n",
              "      <th>exang</th>\n",
              "      <th>oldpeak</th>\n",
              "      <th>slope</th>\n",
              "      <th>ca</th>\n",
              "      <th>thal</th>\n",
              "      <th>target</th>\n",
              "    </tr>\n",
              "  </thead>\n",
              "  <tbody>\n",
              "    <tr>\n",
              "      <th>count</th>\n",
              "      <td>297.000000</td>\n",
              "      <td>297.000000</td>\n",
              "      <td>297.000000</td>\n",
              "      <td>297.000000</td>\n",
              "      <td>297.000000</td>\n",
              "      <td>297.000000</td>\n",
              "      <td>297.000000</td>\n",
              "      <td>297.000000</td>\n",
              "      <td>297.000000</td>\n",
              "      <td>297.000000</td>\n",
              "      <td>297.000000</td>\n",
              "      <td>297.000000</td>\n",
              "      <td>297.000000</td>\n",
              "      <td>297.000000</td>\n",
              "    </tr>\n",
              "    <tr>\n",
              "      <th>mean</th>\n",
              "      <td>54.542088</td>\n",
              "      <td>0.676768</td>\n",
              "      <td>3.158249</td>\n",
              "      <td>131.693603</td>\n",
              "      <td>247.350168</td>\n",
              "      <td>0.144781</td>\n",
              "      <td>0.996633</td>\n",
              "      <td>149.599327</td>\n",
              "      <td>0.326599</td>\n",
              "      <td>1.055556</td>\n",
              "      <td>1.602694</td>\n",
              "      <td>0.676768</td>\n",
              "      <td>4.730640</td>\n",
              "      <td>0.946128</td>\n",
              "    </tr>\n",
              "    <tr>\n",
              "      <th>std</th>\n",
              "      <td>9.049736</td>\n",
              "      <td>0.468500</td>\n",
              "      <td>0.964859</td>\n",
              "      <td>17.762806</td>\n",
              "      <td>51.997583</td>\n",
              "      <td>0.352474</td>\n",
              "      <td>0.994914</td>\n",
              "      <td>22.941562</td>\n",
              "      <td>0.469761</td>\n",
              "      <td>1.166123</td>\n",
              "      <td>0.618187</td>\n",
              "      <td>0.938965</td>\n",
              "      <td>1.938629</td>\n",
              "      <td>1.234551</td>\n",
              "    </tr>\n",
              "    <tr>\n",
              "      <th>min</th>\n",
              "      <td>29.000000</td>\n",
              "      <td>0.000000</td>\n",
              "      <td>1.000000</td>\n",
              "      <td>94.000000</td>\n",
              "      <td>126.000000</td>\n",
              "      <td>0.000000</td>\n",
              "      <td>0.000000</td>\n",
              "      <td>71.000000</td>\n",
              "      <td>0.000000</td>\n",
              "      <td>0.000000</td>\n",
              "      <td>1.000000</td>\n",
              "      <td>0.000000</td>\n",
              "      <td>3.000000</td>\n",
              "      <td>0.000000</td>\n",
              "    </tr>\n",
              "    <tr>\n",
              "      <th>25%</th>\n",
              "      <td>48.000000</td>\n",
              "      <td>0.000000</td>\n",
              "      <td>3.000000</td>\n",
              "      <td>120.000000</td>\n",
              "      <td>211.000000</td>\n",
              "      <td>0.000000</td>\n",
              "      <td>0.000000</td>\n",
              "      <td>133.000000</td>\n",
              "      <td>0.000000</td>\n",
              "      <td>0.000000</td>\n",
              "      <td>1.000000</td>\n",
              "      <td>0.000000</td>\n",
              "      <td>3.000000</td>\n",
              "      <td>0.000000</td>\n",
              "    </tr>\n",
              "    <tr>\n",
              "      <th>50%</th>\n",
              "      <td>56.000000</td>\n",
              "      <td>1.000000</td>\n",
              "      <td>3.000000</td>\n",
              "      <td>130.000000</td>\n",
              "      <td>243.000000</td>\n",
              "      <td>0.000000</td>\n",
              "      <td>1.000000</td>\n",
              "      <td>153.000000</td>\n",
              "      <td>0.000000</td>\n",
              "      <td>0.800000</td>\n",
              "      <td>2.000000</td>\n",
              "      <td>0.000000</td>\n",
              "      <td>3.000000</td>\n",
              "      <td>0.000000</td>\n",
              "    </tr>\n",
              "    <tr>\n",
              "      <th>75%</th>\n",
              "      <td>61.000000</td>\n",
              "      <td>1.000000</td>\n",
              "      <td>4.000000</td>\n",
              "      <td>140.000000</td>\n",
              "      <td>276.000000</td>\n",
              "      <td>0.000000</td>\n",
              "      <td>2.000000</td>\n",
              "      <td>166.000000</td>\n",
              "      <td>1.000000</td>\n",
              "      <td>1.600000</td>\n",
              "      <td>2.000000</td>\n",
              "      <td>1.000000</td>\n",
              "      <td>7.000000</td>\n",
              "      <td>2.000000</td>\n",
              "    </tr>\n",
              "    <tr>\n",
              "      <th>max</th>\n",
              "      <td>77.000000</td>\n",
              "      <td>1.000000</td>\n",
              "      <td>4.000000</td>\n",
              "      <td>200.000000</td>\n",
              "      <td>564.000000</td>\n",
              "      <td>1.000000</td>\n",
              "      <td>2.000000</td>\n",
              "      <td>202.000000</td>\n",
              "      <td>1.000000</td>\n",
              "      <td>6.200000</td>\n",
              "      <td>3.000000</td>\n",
              "      <td>3.000000</td>\n",
              "      <td>7.000000</td>\n",
              "      <td>4.000000</td>\n",
              "    </tr>\n",
              "  </tbody>\n",
              "</table>\n",
              "</div>"
            ],
            "text/plain": [
              "              age         sex          cp  ...          ca        thal      target\n",
              "count  297.000000  297.000000  297.000000  ...  297.000000  297.000000  297.000000\n",
              "mean    54.542088    0.676768    3.158249  ...    0.676768    4.730640    0.946128\n",
              "std      9.049736    0.468500    0.964859  ...    0.938965    1.938629    1.234551\n",
              "min     29.000000    0.000000    1.000000  ...    0.000000    3.000000    0.000000\n",
              "25%     48.000000    0.000000    3.000000  ...    0.000000    3.000000    0.000000\n",
              "50%     56.000000    1.000000    3.000000  ...    0.000000    3.000000    0.000000\n",
              "75%     61.000000    1.000000    4.000000  ...    1.000000    7.000000    2.000000\n",
              "max     77.000000    1.000000    4.000000  ...    3.000000    7.000000    4.000000\n",
              "\n",
              "[8 rows x 14 columns]"
            ]
          },
          "metadata": {
            "tags": []
          },
          "execution_count": 19
        }
      ]
    },
    {
      "cell_type": "code",
      "metadata": {
        "id": "fkBZyaiwhuMK",
        "outputId": "edcea065-0ce8-41f4-a68d-5faa0fa50ba8",
        "colab": {
          "base_uri": "https://localhost:8080/",
          "height": 277
        }
      },
      "source": [
        "cleveland.skew()"
      ],
      "execution_count": 20,
      "outputs": [
        {
          "output_type": "execute_result",
          "data": {
            "text/plain": [
              "age        -0.219775\n",
              "sex        -0.759727\n",
              "cp         -0.844412\n",
              "trestbps    0.700070\n",
              "chol        1.118096\n",
              "fbs         2.029240\n",
              "restecg     0.006768\n",
              "thalach    -0.536540\n",
              "exang       0.743256\n",
              "oldpeak     1.247131\n",
              "slope       0.510444\n",
              "ca          1.179548\n",
              "thal        0.247772\n",
              "target      1.046557\n",
              "dtype: float64"
            ]
          },
          "metadata": {
            "tags": []
          },
          "execution_count": 20
        }
      ]
    },
    {
      "cell_type": "markdown",
      "metadata": {
        "id": "NklWajeHiCVi"
      },
      "source": [
        "* For the cleveland dataset the following features are skewed to left: age, sex, cp, and thalach"
      ]
    },
    {
      "cell_type": "markdown",
      "metadata": {
        "id": "FsAF0yZCbSMP"
      },
      "source": [
        "- We used a csv dataset to be able to see the relationship between the target variable with our dataset"
      ]
    },
    {
      "cell_type": "code",
      "metadata": {
        "id": "D2siDHdsUlTj"
      },
      "source": [
        "heart = pd.read_csv(\"/content/heart (1).csv\")"
      ],
      "execution_count": 21,
      "outputs": []
    },
    {
      "cell_type": "code",
      "metadata": {
        "id": "dIRZjJfmVx7b",
        "outputId": "b71a92d7-ac2b-45d3-adcc-16119a8361c8",
        "colab": {
          "base_uri": "https://localhost:8080/",
          "height": 814
        }
      },
      "source": [
        "# Checking the values for the categorical columns\n",
        "\n",
        "categorical_val = []\n",
        "continous_val = []\n",
        "for column in heart.columns:\n",
        "    print('==============================')\n",
        "    print(f\"{column} : {heart[column].unique()}\")\n",
        "    if len(heart[column].unique()) <= 10:\n",
        "        categorical_val.append(column)\n",
        "    else:\n",
        "        continous_val.append(column)"
      ],
      "execution_count": 22,
      "outputs": [
        {
          "output_type": "stream",
          "text": [
            "==============================\n",
            "age : [63 37 41 56 57 44 52 54 48 49 64 58 50 66 43 69 59 42 61 40 71 51 65 53\n",
            " 46 45 39 47 62 34 35 29 55 60 67 68 74 76 70 38 77]\n",
            "==============================\n",
            "sex : [1 0]\n",
            "==============================\n",
            "cp : [3 2 1 0]\n",
            "==============================\n",
            "trestbps : [145 130 120 140 172 150 110 135 160 105 125 142 155 104 138 128 108 134\n",
            " 122 115 118 100 124  94 112 102 152 101 132 148 178 129 180 136 126 106\n",
            " 156 170 146 117 200 165 174 192 144 123 154 114 164]\n",
            "==============================\n",
            "chol : [233 250 204 236 354 192 294 263 199 168 239 275 266 211 283 219 340 226\n",
            " 247 234 243 302 212 175 417 197 198 177 273 213 304 232 269 360 308 245\n",
            " 208 264 321 325 235 257 216 256 231 141 252 201 222 260 182 303 265 309\n",
            " 186 203 183 220 209 258 227 261 221 205 240 318 298 564 277 214 248 255\n",
            " 207 223 288 160 394 315 246 244 270 195 196 254 126 313 262 215 193 271\n",
            " 268 267 210 295 306 178 242 180 228 149 278 253 342 157 286 229 284 224\n",
            " 206 167 230 335 276 353 225 330 290 172 305 188 282 185 326 274 164 307\n",
            " 249 341 407 217 174 281 289 322 299 300 293 184 409 259 200 327 237 218\n",
            " 319 166 311 169 187 176 241 131]\n",
            "==============================\n",
            "fbs : [1 0]\n",
            "==============================\n",
            "restecg : [0 1 2]\n",
            "==============================\n",
            "thalach : [150 187 172 178 163 148 153 173 162 174 160 139 171 144 158 114 151 161\n",
            " 179 137 157 123 152 168 140 188 125 170 165 142 180 143 182 156 115 149\n",
            " 146 175 186 185 159 130 190 132 147 154 202 166 164 184 122 169 138 111\n",
            " 145 194 131 133 155 167 192 121  96 126 105 181 116 108 129 120 112 128\n",
            " 109 113  99 177 141 136  97 127 103 124  88 195 106  95 117  71 118 134\n",
            "  90]\n",
            "==============================\n",
            "exang : [0 1]\n",
            "==============================\n",
            "oldpeak : [2.3 3.5 1.4 0.8 0.6 0.4 1.3 0.  0.5 1.6 1.2 0.2 1.8 1.  2.6 1.5 3.  2.4\n",
            " 0.1 1.9 4.2 1.1 2.  0.7 0.3 0.9 3.6 3.1 3.2 2.5 2.2 2.8 3.4 6.2 4.  5.6\n",
            " 2.9 2.1 3.8 4.4]\n",
            "==============================\n",
            "slope : [0 2 1]\n",
            "==============================\n",
            "ca : [0 2 1 3 4]\n",
            "==============================\n",
            "thal : [1 2 3 0]\n",
            "==============================\n",
            "target : [1 0]\n"
          ],
          "name": "stdout"
        }
      ]
    },
    {
      "cell_type": "code",
      "metadata": {
        "id": "pGCYceqyWGks",
        "outputId": "3ddcb4e7-40e9-476b-be31-a48cacd5e57e",
        "colab": {
          "base_uri": "https://localhost:8080/",
          "height": 34
        }
      },
      "source": [
        "# Checking the column names\n",
        "categorical_val"
      ],
      "execution_count": 23,
      "outputs": [
        {
          "output_type": "execute_result",
          "data": {
            "text/plain": [
              "['sex', 'cp', 'fbs', 'restecg', 'exang', 'slope', 'ca', 'thal', 'target']"
            ]
          },
          "metadata": {
            "tags": []
          },
          "execution_count": 23
        }
      ]
    },
    {
      "cell_type": "code",
      "metadata": {
        "id": "iL-HQ2Kd5HHQ",
        "outputId": "5de80532-7bf7-4e43-b5fb-81305972b2c5",
        "colab": {
          "base_uri": "https://localhost:8080/",
          "height": 716
        }
      },
      "source": [
        "# plot histograms for each variable\n",
        "cleveland.hist(figsize = (12, 12))\n",
        "plt.show()"
      ],
      "execution_count": 24,
      "outputs": [
        {
          "output_type": "display_data",
          "data": {
            "image/png": "[encoded data removed]",
            "text/plain": [
              "<Figure size 864x864 with 16 Axes>"
            ]
          },
          "metadata": {
            "tags": [],
            "needs_background": "light"
          }
        }
      ]
    },
    {
      "cell_type": "code",
      "metadata": {
        "id": "6Mp53AXyWS4-",
        "outputId": "7acb9389-5bd1-48b8-e143-d4a37c4c9fdd",
        "colab": {
          "base_uri": "https://localhost:8080/",
          "height": 877
        }
      },
      "source": [
        "# Plotting the relationship betwen the target and various columns of our dataset\n",
        "plt.figure(figsize=(15, 15))\n",
        "\n",
        "for i, column in enumerate(categorical_val, 1):\n",
        "    plt.subplot(3, 3, i)\n",
        "    heart[heart[\"target\"] == 0][column].hist(bins=35, color='blue', label='Have Heart Disease = NO', alpha=0.6)\n",
        "    heart[heart[\"target\"] == 1][column].hist(bins=35, color='red', label='Have Heart Disease = YES', alpha=0.6)\n",
        "    plt.legend()\n",
        "    plt.xlabel(column)"
      ],
      "execution_count": 25,
      "outputs": [
        {
          "output_type": "display_data",
          "data": {
            "image/png": "[encoded data removed]",
            "text/plain": [
              "<Figure size 1080x1080 with 9 Axes>"
            ]
          },
          "metadata": {
            "tags": [],
            "needs_background": "light"
          }
        }
      ]
    },
    {
      "cell_type": "markdown",
      "metadata": {
        "id": "ABJRtdtVZmlp"
      },
      "source": [
        "* cp {Chest Pain} : People with cp equl to 1, 2, 3 are more likely to have heart disease than people with cp equal to 0.\n",
        "* restecg {resting electrocardiographic results} : People with value 1 (signals non-normal heart beat, can range from mild symptoms to severe problems) are more likely to have heart disease.\n",
        "* exang {exercise induced angina} : People with value 0 (No ==> exercice induced angina) have heart disease more than people with value 1 (Yes ==> exercice induced angina)\n",
        "* slope {the slope of the peak exercise ST segment} : People with slope value equal to 2 (Downslopins: signs of unhealthy heart) are more likely to have heart disease than people with slope value equal to 0 (Upsloping: better heart rate with excercise) or 1 (Flatsloping: minimal change (typical healthy heart)).\n",
        "* ca {number of major vessels (0-3) colored by flourosopy} : the more blood movement the better so people with ca equal to 0 are more likely to have heart disease.\n",
        "* thal {thalium stress result} : People with thal value equal to 2 (fixed defect: used to be defect but ok now) are more likely to have heart disease.\n",
        " 3 = normal; 6 = fixed defect; 7 = reversable defect"
      ]
    },
    {
      "cell_type": "code",
      "metadata": {
        "id": "b4BPZR8rW_wy",
        "outputId": "317add64-12d9-4a97-8a62-11a74ba9a3e0",
        "colab": {
          "base_uri": "https://localhost:8080/",
          "height": 878
        }
      },
      "source": [
        "plt.figure(figsize=(15, 15))\n",
        "\n",
        "for i, column in enumerate(continous_val, 1):\n",
        "    plt.subplot(3, 2, i)\n",
        "    heart[heart[\"target\"] == 0][column].hist(bins=35, color='blue', label='Have Heart Disease = NO', alpha=0.6)\n",
        "    heart[heart[\"target\"] == 1][column].hist(bins=35, color='red', label='Have Heart Disease = YES', alpha=0.6)\n",
        "    plt.legend()\n",
        "    plt.xlabel(column)"
      ],
      "execution_count": 26,
      "outputs": [
        {
          "output_type": "display_data",
          "data": {
            "image/png": "[encoded data removed]",
            "text/plain": [
              "<Figure size 1080x1080 with 5 Axes>"
            ]
          },
          "metadata": {
            "tags": [],
            "needs_background": "light"
          }
        }
      ]
    },
    {
      "cell_type": "markdown",
      "metadata": {
        "id": "EbHSSq7oaSBm"
      },
      "source": [
        "* trestbps : resting blood pressure (in mm Hg on admission to the hospital) anything above 130-140 is typically cause for concern\n",
        "* chol {serum cholestoral in mg/dl} : above 200 is cause for concern.\n",
        "* thalach {maximum heart rate achieved} : People how acheived a maximum more than 140 are more likely to have heart disease.\n",
        "* oldpeak ST depression induced by exercise relative to rest looks at stress of heart during excercise unhealthy heart will stress more"
      ]
    },
    {
      "cell_type": "markdown",
      "metadata": {
        "id": "YYbmqePXafb6"
      },
      "source": [
        "**- Age vs. Max Heart Rate for Heart Disease**"
      ]
    },
    {
      "cell_type": "code",
      "metadata": {
        "id": "4J8_qm0mXMZI",
        "outputId": "bb7bf53e-275f-440d-adab-d3e1d7752d38",
        "colab": {
          "base_uri": "https://localhost:8080/",
          "height": 294
        }
      },
      "source": [
        "# Scatter with postivie examples\n",
        "plt.scatter(heart.age[heart.target==1],\n",
        "            heart.thalach[heart.target==1],\n",
        "            c=\"salmon\")\n",
        "\n",
        "# Scatter with negative examples\n",
        "plt.scatter(heart.age[heart.target==0],\n",
        "            heart.thalach[heart.target==0],\n",
        "            c=\"lightblue\")\n",
        "\n",
        "# Add some helpful info\n",
        "plt.title(\"Heart Disease in function of Age and Max Heart Rate\")\n",
        "plt.xlabel(\"Age\")\n",
        "plt.ylabel(\"Max Heart Rate\")\n",
        "plt.legend([\"Disease\", \"No Disease\"]);"
      ],
      "execution_count": 27,
      "outputs": [
        {
          "output_type": "display_data",
          "data": {
            "image/png": "[encoded data removed]",
            "text/plain": [
              "<Figure size 432x288 with 1 Axes>"
            ]
          },
          "metadata": {
            "tags": [],
            "needs_background": "light"
          }
        }
      ]
    },
    {
      "cell_type": "code",
      "metadata": {
        "id": "Mk6rNgwaaw_b",
        "outputId": "2c0dbfe4-b4b0-4e58-9f1c-fc601a5c8fec",
        "colab": {
          "base_uri": "https://localhost:8080/",
          "height": 362
        }
      },
      "source": [
        "import seaborn as sns\n",
        "age_unique=sorted(cleveland.age.unique())\n",
        "age_thalach_values=cleveland.groupby('age')['thalach'].count().values\n",
        "mean_thalach=[]\n",
        "for i,age in enumerate(age_unique):\n",
        "    mean_thalach.append(sum(cleveland[cleveland['age']==age].thalach)/age_thalach_values[i])\n",
        "    \n",
        "plt.figure(figsize=(10,5))\n",
        "sns.pointplot(x=age_unique,y=mean_thalach,color='red',alpha=0.8)\n",
        "plt.xlabel('Age',fontsize = 15,color='blue')\n",
        "plt.xticks(rotation=45)\n",
        "plt.ylabel('Thalach',fontsize = 15,color='blue')\n",
        "plt.title('Age vs Thalach',fontsize = 15,color='blue')\n",
        "plt.grid()\n",
        "plt.show()"
      ],
      "execution_count": 29,
      "outputs": [
        {
          "output_type": "display_data",
          "data": {
            "image/png": "[encoded data removed]",
            "text/plain": [
              "<Figure size 720x360 with 1 Axes>"
            ]
          },
          "metadata": {
            "tags": [],
            "needs_background": "light"
          }
        }
      ]
    },
    {
      "cell_type": "code",
      "metadata": {
        "id": "dl586mcx5RNS",
        "outputId": "ca025cea-7f13-426c-a19e-a3ca197260a4",
        "colab": {
          "base_uri": "https://localhost:8080/",
          "height": 406
        }
      },
      "source": [
        "pd.crosstab(heart.age,heart.target).plot(kind=\"bar\",figsize=(20,6))\n",
        "plt.title('Heart Disease Frequency for Ages')\n",
        "plt.xlabel('Age')\n",
        "plt.ylabel('Frequency')\n",
        "plt.show()"
      ],
      "execution_count": 30,
      "outputs": [
        {
          "output_type": "display_data",
          "data": {
            "image/png": "[encoded data removed]",
            "text/plain": [
              "<Figure size 1440x432 with 1 Axes>"
            ]
          },
          "metadata": {
            "tags": [],
            "needs_background": "light"
          }
        }
      ]
    },
    {
      "cell_type": "code",
      "metadata": {
        "id": "lcrQN8tJ9n5s",
        "outputId": "4d708d5a-459e-4f3d-b522-dc4f951adb07",
        "colab": {
          "base_uri": "https://localhost:8080/",
          "height": 69
        }
      },
      "source": [
        "heart.target.value_counts()\n",
        "\n",
        "# We have 165 person with heart disease and 138 person without heart disease, so our problem is balanced."
      ],
      "execution_count": 31,
      "outputs": [
        {
          "output_type": "execute_result",
          "data": {
            "text/plain": [
              "1    165\n",
              "0    138\n",
              "Name: target, dtype: int64"
            ]
          },
          "metadata": {
            "tags": []
          },
          "execution_count": 31
        }
      ]
    },
    {
      "cell_type": "code",
      "metadata": {
        "id": "laz7q-8G83DT",
        "outputId": "d1598115-12dd-443f-8363-635129a44448",
        "colab": {
          "base_uri": "https://localhost:8080/",
          "height": 280
        }
      },
      "source": [
        "# A bar plot for the target variable\n",
        "heart.target.value_counts().plot(kind=\"bar\", color=[\"salmon\", \"lightblue\"])"
      ],
      "execution_count": 32,
      "outputs": [
        {
          "output_type": "execute_result",
          "data": {
            "text/plain": [
              "<matplotlib.axes._subplots.AxesSubplot at 0x7fca2619fe48>"
            ]
          },
          "metadata": {
            "tags": []
          },
          "execution_count": 32
        },
        {
          "output_type": "display_data",
          "data": {
            "image/png": "[encoded data removed]",
            "text/plain": [
              "<Figure size 432x288 with 1 Axes>"
            ]
          },
          "metadata": {
            "tags": [],
            "needs_background": "light"
          }
        }
      ]
    },
    {
      "cell_type": "code",
      "metadata": {
        "id": "Gk76OIiaYjXO",
        "outputId": "92bd879a-5ccc-41fb-94fc-03a80d470a63",
        "colab": {
          "base_uri": "https://localhost:8080/",
          "height": 509
        }
      },
      "source": [
        "#Finding out the number of patients for both genders\n",
        "sns.catplot(\"target\", col=\"sex\", col_wrap=4, data=heart, kind=\"count\", height=6, aspect=.8, palette='Set1')\n",
        "plt.show()\n",
        "\n",
        "# 1 male\n",
        "# 0 female\n",
        "# 0 has no heart disease/ < 50\n",
        "# 1 has heart disease / > 50\n",
        "# males are more likely to have heart disease compared to females"
      ],
      "execution_count": 33,
      "outputs": [
        {
          "output_type": "stream",
          "text": [
            "/usr/local/lib/python3.6/dist-packages/seaborn/_decorators.py:43: FutureWarning: Pass the following variable as a keyword arg: x. From version 0.12, the only valid positional argument will be `data`, and passing other arguments without an explicit keyword will result in an error or misinterpretation.\n",
            "  FutureWarning\n"
          ],
          "name": "stderr"
        },
        {
          "output_type": "display_data",
          "data": {
            "image/png": "[encoded data removed]",
            "text/plain": [
              "<Figure size 1382.4x432 with 2 Axes>"
            ]
          },
          "metadata": {
            "tags": [],
            "needs_background": "light"
          }
        }
      ]
    },
    {
      "cell_type": "markdown",
      "metadata": {
        "id": "Og-c2l59b-aS"
      },
      "source": [
        "* We just used the heart csv for our univariate analysis"
      ]
    },
    {
      "cell_type": "markdown",
      "metadata": {
        "id": "zgHliFPo-HEF"
      },
      "source": [
        "* Bivariate EDA"
      ]
    },
    {
      "cell_type": "code",
      "metadata": {
        "id": "k1SG_PPx7u8x",
        "outputId": "e1e67e42-32b7-4d6f-de40-0ae391347810",
        "colab": {
          "base_uri": "https://localhost:8080/",
          "height": 568
        }
      },
      "source": [
        "# Exploring the correlation between numerical variables\n",
        "import seaborn as sns\n",
        "\n",
        "plt.figure(figsize=(13,9))\n",
        "sns.heatmap(cleveland.corr(), annot=True, cbar=False, cmap='viridis', linewidth=1, fmt='.1f', square=True)\n",
        "plt.show()"
      ],
      "execution_count": 34,
      "outputs": [
        {
          "output_type": "display_data",
          "data": {
            "image/png": "[encoded data removed]",
            "text/plain": [
              "<Figure size 936x648 with 1 Axes>"
            ]
          },
          "metadata": {
            "tags": [],
            "needs_background": "light"
          }
        }
      ]
    },
    {
      "cell_type": "code",
      "metadata": {
        "id": "bbpjjku28JQv",
        "outputId": "354bf84d-b94e-4c65-aa15-195049a86157",
        "colab": {
          "base_uri": "https://localhost:8080/",
          "height": 585
        }
      },
      "source": [
        "# Showing attributes with a correlation >= 3\n",
        "\n",
        "plt.figure(figsize=(13,9))\n",
        "corr = cleveland.corr()\n",
        "sns.heatmap(corr[(corr >= 0.5) | (corr <= -0.4)], annot=True, cbar=False,\n",
        "                                 cmap='viridis', linewidth=1, fmt='.1f', square=True)"
      ],
      "execution_count": 35,
      "outputs": [
        {
          "output_type": "execute_result",
          "data": {
            "text/plain": [
              "<matplotlib.axes._subplots.AxesSubplot at 0x7fca26f66208>"
            ]
          },
          "metadata": {
            "tags": []
          },
          "execution_count": 35
        },
        {
          "output_type": "display_data",
          "data": {
            "image/png": "[encoded data removed]",
            "text/plain": [
              "<Figure size 936x648 with 1 Axes>"
            ]
          },
          "metadata": {
            "tags": [],
            "needs_background": "light"
          }
        }
      ]
    },
    {
      "cell_type": "code",
      "metadata": {
        "id": "-CukWVE88AUS"
      },
      "source": [
        ""
      ],
      "execution_count": null,
      "outputs": []
    },
    {
      "cell_type": "markdown",
      "metadata": {
        "id": "s0kPs_pp3T_6"
      },
      "source": [
        "# Implementing the Solution"
      ]
    },
    {
      "cell_type": "markdown",
      "metadata": {
        "id": "hk3n8yLj0NpA"
      },
      "source": [
        "## Baseline Models"
      ]
    },
    {
      "cell_type": "code",
      "metadata": {
        "id": "kegru7uj3esX"
      },
      "source": [
        "# Importing other used libraries\n",
        "import matplotlib.pyplot as plt\n",
        "import seaborn as sns\n",
        "import seaborn as sns; sns.set(font_scale=1.2)\n",
        "from sklearn.svm import SVC\n",
        "from sklearn import svm\n",
        "from sklearn.decomposition import PCA\n",
        "from sklearn.metrics import confusion_matrix,accuracy_score\n",
        "%matplotlib inline\n",
        "from sklearn.model_selection import train_test_split, cross_val_score\n",
        "from sklearn.preprocessing import StandardScaler\n",
        "from sklearn import linear_model\n",
        "from sklearn.model_selection import GridSearchCV, RandomizedSearchCV"
      ],
      "execution_count": 36,
      "outputs": []
    },
    {
      "cell_type": "code",
      "metadata": {
        "id": "_XR--VmrLqL4"
      },
      "source": [
        "cleveland[['thal', 'ca']] = cleveland[['thal', 'ca']].astype(float)"
      ],
      "execution_count": 37,
      "outputs": []
    },
    {
      "cell_type": "code",
      "metadata": {
        "id": "FVxeLIUfaUau",
        "outputId": "65e3e223-e6ba-47fa-dc19-55e5d2dbb93e",
        "colab": {
          "base_uri": "https://localhost:8080/",
          "height": 277
        }
      },
      "source": [
        "cleveland.dtypes"
      ],
      "execution_count": 38,
      "outputs": [
        {
          "output_type": "execute_result",
          "data": {
            "text/plain": [
              "age           int64\n",
              "sex           int64\n",
              "cp            int64\n",
              "trestbps      int64\n",
              "chol          int64\n",
              "fbs           int64\n",
              "restecg       int64\n",
              "thalach       int64\n",
              "exang         int64\n",
              "oldpeak     float64\n",
              "slope         int64\n",
              "ca          float64\n",
              "thal        float64\n",
              "target        int64\n",
              "dtype: object"
            ]
          },
          "metadata": {
            "tags": []
          },
          "execution_count": 38
        }
      ]
    },
    {
      "cell_type": "code",
      "metadata": {
        "id": "AffdqHn_3_y7"
      },
      "source": [
        "X = cleveland.drop(['target'], axis=1)\n",
        "y = cleveland['target']\n",
        "\n",
        "# Data Reduction\n",
        "# Is PCA the best method here?\n",
        "# Applying the reduction algorithm: PCA\n",
        "# from sklearn import decomposition\n",
        "# pca = decomposition.PCA(n_components=5).fit(X)\n",
        "# X = pca.transform(X)\n",
        "# X.shape"
      ],
      "execution_count": 39,
      "outputs": []
    },
    {
      "cell_type": "code",
      "metadata": {
        "id": "JLUMoG3a4fzB"
      },
      "source": [
        "#  Split the data into train and test set\n",
        "X_train, X_test, y_train, y_test = train_test_split(X, y, test_size = 0.2, random_state = 0)"
      ],
      "execution_count": 40,
      "outputs": []
    },
    {
      "cell_type": "code",
      "metadata": {
        "id": "is2pcCyG4iqb"
      },
      "source": [
        "# scaling data\n",
        "scaler = StandardScaler()\n",
        "X_train = scaler.fit_transform(X_train)\n",
        "X_test = scaler.transform(X_test)"
      ],
      "execution_count": 41,
      "outputs": []
    },
    {
      "cell_type": "code",
      "metadata": {
        "id": "orpaEcw-d3Ww"
      },
      "source": [
        "# Classification task\n",
        "# Random Forest\n",
        "# Ada Boost Classifier\n",
        "# Neutral Networks\n",
        "# Naive Bayes Classifier\n",
        "# SVMs: linear, rbf, polynomial"
      ],
      "execution_count": 71,
      "outputs": []
    },
    {
      "cell_type": "code",
      "metadata": {
        "id": "PLZ6oaJL5a-g"
      },
      "source": [
        "from sklearn.ensemble import AdaBoostClassifier\n",
        "from sklearn.ensemble import GradientBoostingClassifier\n",
        "from sklearn.neighbors import KNeighborsClassifier\n",
        "from sklearn.svm import SVC,LinearSVC\n",
        "from sklearn.ensemble import RandomForestClassifier\n",
        "from sklearn import metrics\n"
      ],
      "execution_count": 42,
      "outputs": []
    },
    {
      "cell_type": "code",
      "metadata": {
        "id": "4i7nzdLU51Sk"
      },
      "source": [
        "seed = 42"
      ],
      "execution_count": 43,
      "outputs": []
    },
    {
      "cell_type": "code",
      "metadata": {
        "id": "x3aNmZ8W4lWC"
      },
      "source": [
        "# Baseline models\n",
        "# svm = SVR()\n",
        "knn = KNeighborsClassifier(n_jobs = -1)\n",
        "rf =  RandomForestClassifier(n_jobs = -1, random_state = seed)\n",
        "ab = AdaBoostClassifier(random_state = seed)\n",
        "gb = GradientBoostingClassifier(random_state = seed)"
      ],
      "execution_count": 44,
      "outputs": []
    },
    {
      "cell_type": "code",
      "metadata": {
        "id": "5rADt12Q6Btt"
      },
      "source": [
        "\n",
        "def train_test_split_score(model):\n",
        "    from sklearn.metrics import accuracy_score\n",
        "    from sklearn.model_selection import train_test_split\n",
        "    X_train, X_test, Y_train, Y_test = train_test_split(X, y, test_size = 0.3, random_state = seed)\n",
        "    model.fit(X_train, Y_train)\n",
        "    prediction = model.predict(X_test)\n",
        "    accuracy_score = metrics.accuracy_score(Y_test, prediction)\n",
        "    classification_report = metrics.classification_report(Y_test, prediction)\n",
        "    return accuracy_score\n",
        "    \n"
      ],
      "execution_count": 45,
      "outputs": []
    },
    {
      "cell_type": "code",
      "metadata": {
        "id": "7g_ykMsJnu85",
        "outputId": "4cce0aac-7fc0-4f96-9d52-07e1adb2379b",
        "colab": {
          "base_uri": "https://localhost:8080/",
          "height": 141
        }
      },
      "source": [
        "models = [knn, rf, ab, gb]\n",
        "model_list = ['knn', 'rf', 'ab', 'gb']\n",
        "for i, j in zip(models, model_list):\n",
        "  print(\"Algorithm is\", j, train_test_split_score(i))"
      ],
      "execution_count": 46,
      "outputs": [
        {
          "output_type": "stream",
          "text": [
            "/usr/local/lib/python3.6/dist-packages/sklearn/metrics/_classification.py:1272: UndefinedMetricWarning: Precision and F-score are ill-defined and being set to 0.0 in labels with no predicted samples. Use `zero_division` parameter to control this behavior.\n",
            "  _warn_prf(average, modifier, msg_start, len(result))\n"
          ],
          "name": "stderr"
        },
        {
          "output_type": "stream",
          "text": [
            "Algorithm is knn 0.5\n",
            "Algorithm is rf 0.5777777777777777\n",
            "Algorithm is ab 0.5333333333333333\n",
            "Algorithm is gb 0.5555555555555556\n"
          ],
          "name": "stdout"
        }
      ]
    },
    {
      "cell_type": "markdown",
      "metadata": {
        "id": "kQhrW9z57MuH"
      },
      "source": [
        "- Changing the random state to 42 produced an error of [sklearn error ValueError: Input contains NaN, infinity or a value too large for dtype('float64')], hence recommending using a random state of 0"
      ]
    },
    {
      "cell_type": "markdown",
      "metadata": {
        "id": "YGiP5-5leBKF"
      },
      "source": [
        "## SVM"
      ]
    },
    {
      "cell_type": "code",
      "metadata": {
        "id": "epyDwY3Jgr79"
      },
      "source": [
        "import seaborn as sns; sns.set(font_scale=1.2)\n",
        "# Import Suport Vector Classifier module from svm library. We'll use SVC to model our data\n",
        "from sklearn.svm import SVC,LinearSVC\n",
        "from sklearn.model_selection import train_test_split\n",
        "# Import scikit-learn metrics module for accuracy calculation\n",
        "from sklearn.metrics import  accuracy_score\n",
        "from sklearn.metrics import confusion_matrix"
      ],
      "execution_count": 47,
      "outputs": []
    },
    {
      "cell_type": "code",
      "metadata": {
        "id": "281cQ3DTftcD",
        "outputId": "29dfe6e9-db52-431b-ecb3-9fd959c78729",
        "colab": {
          "base_uri": "https://localhost:8080/",
          "height": 34
        }
      },
      "source": [
        "# Seperating the target from our data\n",
        "X = cleveland.drop(['target'], axis=1) # We remove diagnosis column since its our target column and id because its not relevant in diagnosis. \n",
        "y = cleveland['target']\n",
        "\n",
        "#  Split the data into train and test set\n",
        "X_train, X_test, y_train, y_test = train_test_split(X, y, test_size = 0.2, random_state = 0)\n",
        "y_test.shape"
      ],
      "execution_count": 48,
      "outputs": [
        {
          "output_type": "execute_result",
          "data": {
            "text/plain": [
              "(60,)"
            ]
          },
          "metadata": {
            "tags": []
          },
          "execution_count": 48
        }
      ]
    },
    {
      "cell_type": "code",
      "metadata": {
        "id": "eo7Suos_fqAc",
        "outputId": "cbea45f5-3cc7-4989-d6b8-2fda766e79a2",
        "colab": {
          "base_uri": "https://localhost:8080/",
          "height": 69
        }
      },
      "source": [
        "# Let's now build the svm model \n",
        "data = SVC(kernel = 'linear')\n",
        "# Train the model using the training set\n",
        "data.fit(X_train,y_train)\n",
        "\n",
        "# Predict the response for the test set\n",
        "y_pred = data.predict(X_test)\n",
        "y_pred"
      ],
      "execution_count": 49,
      "outputs": [
        {
          "output_type": "execute_result",
          "data": {
            "text/plain": [
              "array([0, 0, 3, 0, 0, 0, 0, 0, 2, 1, 0, 0, 2, 0, 0, 0, 1, 0, 2, 0, 1, 2,\n",
              "       0, 0, 0, 0, 0, 0, 0, 0, 1, 0, 1, 1, 0, 3, 0, 0, 2, 0, 0, 3, 0, 0,\n",
              "       0, 0, 3, 0, 0, 0, 3, 3, 1, 0, 0, 2, 0, 1, 0, 0])"
            ]
          },
          "metadata": {
            "tags": []
          },
          "execution_count": 49
        }
      ]
    },
    {
      "cell_type": "code",
      "metadata": {
        "id": "YYEgoUe_gBJl",
        "outputId": "fd970bf6-cb89-49eb-f89c-c702ebd34ab0",
        "colab": {
          "base_uri": "https://localhost:8080/",
          "height": 104
        }
      },
      "source": [
        "# Now that we have trained our model, let's test how well it can predict the \n",
        "\n",
        "# Checking the accurancy of the model\n",
        "model_accuracy = accuracy_score(y_test,y_pred)\n",
        "model_accuracy\n",
        "\n",
        "# We've gotten a classification rate of 96.05%. This is a pretty good accuracy score \n",
        "\n",
        "# For further evaluation you can also check the confusion matrix\n",
        "confusion_matrix = confusion_matrix(y_test, y_pred)\n",
        "confusion_matrix"
      ],
      "execution_count": 50,
      "outputs": [
        {
          "output_type": "execute_result",
          "data": {
            "text/plain": [
              "array([[27,  2,  1,  0,  0],\n",
              "       [ 9,  1,  1,  1,  0],\n",
              "       [ 1,  2,  1,  3,  0],\n",
              "       [ 1,  1,  3,  1,  0],\n",
              "       [ 2,  2,  0,  1,  0]])"
            ]
          },
          "metadata": {
            "tags": []
          },
          "execution_count": 50
        }
      ]
    },
    {
      "cell_type": "code",
      "metadata": {
        "id": "Ip2p2zgfgFB-",
        "outputId": "83bdb1c0-0c9d-4a90-8ff8-68b0eb9fb974",
        "colab": {
          "base_uri": "https://localhost:8080/",
          "height": 34
        }
      },
      "source": [
        "model_accuracy"
      ],
      "execution_count": 51,
      "outputs": [
        {
          "output_type": "execute_result",
          "data": {
            "text/plain": [
              "0.5"
            ]
          },
          "metadata": {
            "tags": []
          },
          "execution_count": 51
        }
      ]
    },
    {
      "cell_type": "markdown",
      "metadata": {
        "id": "PKNLiAhfiBPR"
      },
      "source": [
        "### Poly"
      ]
    },
    {
      "cell_type": "code",
      "metadata": {
        "id": "PY79tKRZiDGR"
      },
      "source": [
        "poly = svm.SVC(kernel='poly', degree=3, C=1, decision_function_shape='ovo').fit(X_train, y_train)"
      ],
      "execution_count": 52,
      "outputs": []
    },
    {
      "cell_type": "code",
      "metadata": {
        "id": "wrabRUOoiL6w"
      },
      "source": [
        "# Making the prediction\n",
        "# making prediction\n",
        "y_pred = poly.predict(X_test)"
      ],
      "execution_count": 53,
      "outputs": []
    },
    {
      "cell_type": "code",
      "metadata": {
        "id": "DcD7osDkiPqE",
        "outputId": "f8677cb7-f338-42c5-c140-2e1b3074e280",
        "colab": {
          "base_uri": "https://localhost:8080/",
          "height": 34
        }
      },
      "source": [
        "# Model Evaluation\n",
        "print('Poly Accuracy Score:', accuracy_score(y_test, y_pred))"
      ],
      "execution_count": 54,
      "outputs": [
        {
          "output_type": "stream",
          "text": [
            "Poly Accuracy Score: 0.5\n"
          ],
          "name": "stdout"
        }
      ]
    },
    {
      "cell_type": "code",
      "metadata": {
        "id": "u-AAA4pjdcNE"
      },
      "source": [
        "print(confusion_matrix(y_test, y_pred))"
      ],
      "execution_count": null,
      "outputs": []
    },
    {
      "cell_type": "markdown",
      "metadata": {
        "id": "s6l5jeKlhgjL"
      },
      "source": [
        "### RBF"
      ]
    },
    {
      "cell_type": "code",
      "metadata": {
        "id": "ISGgH5Y-gVd1",
        "outputId": "dcc14b4b-22ef-44e3-a349-b717a66df101",
        "colab": {
          "base_uri": "https://localhost:8080/",
          "height": 86
        }
      },
      "source": [
        "# Building the model \n",
        "rbfclassifier = SVC(kernel='rbf')\n",
        "# Training the model using the training set\n",
        "rbfclassifier.fit(X_train, y_train)"
      ],
      "execution_count": 56,
      "outputs": [
        {
          "output_type": "execute_result",
          "data": {
            "text/plain": [
              "SVC(C=1.0, break_ties=False, cache_size=200, class_weight=None, coef0=0.0,\n",
              "    decision_function_shape='ovr', degree=3, gamma='scale', kernel='rbf',\n",
              "    max_iter=-1, probability=False, random_state=None, shrinking=True,\n",
              "    tol=0.001, verbose=False)"
            ]
          },
          "metadata": {
            "tags": []
          },
          "execution_count": 56
        }
      ]
    },
    {
      "cell_type": "code",
      "metadata": {
        "id": "aIRNo7zmhW5v"
      },
      "source": [
        "# making prediction\n",
        "y_pred = rbfclassifier.predict(X_test)"
      ],
      "execution_count": 57,
      "outputs": []
    },
    {
      "cell_type": "code",
      "metadata": {
        "id": "dnkiW_cmhlwI",
        "outputId": "9b2ad91f-acf8-4612-fe6e-5f4ee529224d",
        "colab": {
          "base_uri": "https://localhost:8080/",
          "height": 34
        }
      },
      "source": [
        "# Model Evaluation\n",
        "print('RBFclassifier Accuracy Score:', accuracy_score(y_test, y_pred))"
      ],
      "execution_count": 58,
      "outputs": [
        {
          "output_type": "stream",
          "text": [
            "RBFclassifier Accuracy Score: 0.5\n"
          ],
          "name": "stdout"
        }
      ]
    },
    {
      "cell_type": "code",
      "metadata": {
        "id": "2u9pHrp7KmFa"
      },
      "source": [
        "print(confusion_matrix(y_test, y_pred))"
      ],
      "execution_count": null,
      "outputs": []
    },
    {
      "cell_type": "markdown",
      "metadata": {
        "id": "dksd4X-uhoTt"
      },
      "source": [
        "### Sigmoid"
      ]
    },
    {
      "cell_type": "code",
      "metadata": {
        "id": "swUbLndrhuTc",
        "outputId": "6b522a16-4a22-4b8a-ee9a-4b1910af51dd",
        "colab": {
          "base_uri": "https://localhost:8080/",
          "height": 86
        }
      },
      "source": [
        "# Building the model \n",
        "sigclassifier = SVC(kernel='sigmoid')\n",
        "# Training the model using the training set\n",
        "sigclassifier.fit(X_train, y_train)"
      ],
      "execution_count": 59,
      "outputs": [
        {
          "output_type": "execute_result",
          "data": {
            "text/plain": [
              "SVC(C=1.0, break_ties=False, cache_size=200, class_weight=None, coef0=0.0,\n",
              "    decision_function_shape='ovr', degree=3, gamma='scale', kernel='sigmoid',\n",
              "    max_iter=-1, probability=False, random_state=None, shrinking=True,\n",
              "    tol=0.001, verbose=False)"
            ]
          },
          "metadata": {
            "tags": []
          },
          "execution_count": 59
        }
      ]
    },
    {
      "cell_type": "code",
      "metadata": {
        "id": "V1Do1UuPhx0x"
      },
      "source": [
        "# making prediction\n",
        "y_pred = sigclassifier.predict(X_test)"
      ],
      "execution_count": 60,
      "outputs": []
    },
    {
      "cell_type": "code",
      "metadata": {
        "id": "HaXg7kP7h0OW",
        "outputId": "62701401-bda9-47c2-b68e-0d305b97cb17",
        "colab": {
          "base_uri": "https://localhost:8080/",
          "height": 34
        }
      },
      "source": [
        "# Model Evaluation\n",
        "print('Sigmoidclassifier Accuracy Score:', accuracy_score(y_test, y_pred))"
      ],
      "execution_count": 61,
      "outputs": [
        {
          "output_type": "stream",
          "text": [
            "Sigmoidclassifier Accuracy Score: 0.5\n"
          ],
          "name": "stdout"
        }
      ]
    },
    {
      "cell_type": "code",
      "metadata": {
        "id": "4dvGCVULKos-"
      },
      "source": [
        "print(confusion_matrix(y_test, y_pred))"
      ],
      "execution_count": null,
      "outputs": []
    },
    {
      "cell_type": "markdown",
      "metadata": {
        "id": "MCYgWwi5AWhQ"
      },
      "source": [
        "# Neural networks"
      ]
    },
    {
      "cell_type": "code",
      "metadata": {
        "id": "M4zRnGnmAZvN"
      },
      "source": [
        "X = np.array(cleveland.drop(['target'], 1))\n",
        "y = np.array(cleveland['target'])"
      ],
      "execution_count": 62,
      "outputs": []
    },
    {
      "cell_type": "code",
      "metadata": {
        "id": "Qb2mKJP4VBPG",
        "outputId": "48d9da8c-ff16-46e8-a337-0de18e710588",
        "colab": {
          "base_uri": "https://localhost:8080/",
          "height": 34
        }
      },
      "source": [
        "X.shape"
      ],
      "execution_count": 63,
      "outputs": [
        {
          "output_type": "execute_result",
          "data": {
            "text/plain": [
              "(297, 13)"
            ]
          },
          "metadata": {
            "tags": []
          },
          "execution_count": 63
        }
      ]
    },
    {
      "cell_type": "code",
      "metadata": {
        "id": "t1c6bBZ5U_Zs",
        "outputId": "a15844b0-a445-4361-fe61-78131fb6a1b0",
        "colab": {
          "base_uri": "https://localhost:8080/",
          "height": 34
        }
      },
      "source": [
        "y.shape"
      ],
      "execution_count": 64,
      "outputs": [
        {
          "output_type": "execute_result",
          "data": {
            "text/plain": [
              "(297,)"
            ]
          },
          "metadata": {
            "tags": []
          },
          "execution_count": 64
        }
      ]
    },
    {
      "cell_type": "code",
      "metadata": {
        "id": "ZmoEKp1vAoxC"
      },
      "source": [
        "# create X and Y datasets for training\n",
        "from sklearn import model_selection\n",
        "\n",
        "X_train, X_test, y_train, y_test = model_selection.train_test_split(X, y, stratify=y, random_state=42, test_size = 0.2)"
      ],
      "execution_count": 65,
      "outputs": []
    },
    {
      "cell_type": "code",
      "metadata": {
        "id": "huVZALc2emhm"
      },
      "source": [
        "# scaling data\n",
        "scaler = StandardScaler()\n",
        "X_train = scaler.fit_transform(X_train)\n",
        "X_test = scaler.transform(X_test)"
      ],
      "execution_count": 66,
      "outputs": []
    },
    {
      "cell_type": "code",
      "metadata": {
        "id": "9WktMH1CA3Xz"
      },
      "source": [
        "# Importing the libraries\n",
        "\n",
        "from keras.models import Sequential\n",
        "from keras.layers import Dense\n",
        "from keras.optimizers import Adam\n",
        "from keras.layers import Dropout\n",
        "from keras import regularizers"
      ],
      "execution_count": 67,
      "outputs": []
    },
    {
      "cell_type": "markdown",
      "metadata": {
        "id": "-1o2_o4cRlS1"
      },
      "source": [
        "## Model performance Binary method"
      ]
    },
    {
      "cell_type": "code",
      "metadata": {
        "id": "3YMsTnHnRXqk",
        "outputId": "588949d9-fd2e-4e26-83e9-983510dd7b06",
        "colab": {
          "base_uri": "https://localhost:8080/",
          "height": 34
        }
      },
      "source": [
        "# convert into binary classification problem - heart disease or no heart disease\n",
        "Y_train_binary = y_train.copy()\n",
        "Y_test_binary = y_test.copy()\n",
        "\n",
        "Y_train_binary[Y_train_binary > 0] = 1\n",
        "Y_test_binary[Y_test_binary > 0] = 1\n",
        "\n",
        "print(Y_train_binary[:20])"
      ],
      "execution_count": 68,
      "outputs": [
        {
          "output_type": "stream",
          "text": [
            "[1 0 0 0 0 0 0 0 0 1 0 1 0 0 0 0 0 0 1 0]\n"
          ],
          "name": "stdout"
        }
      ]
    },
    {
      "cell_type": "code",
      "metadata": {
        "id": "sXAOE1tHRcoy",
        "outputId": "f32ef533-d571-4766-a18e-00f5f95aabde",
        "colab": {
          "base_uri": "https://localhost:8080/",
          "height": 346
        }
      },
      "source": [
        "# define a new keras model for binary classification\n",
        "def create_binary_model():\n",
        "    # create model\n",
        "    model = Sequential()\n",
        "    model.add(Dense(16, input_dim=13, kernel_initializer='normal',  kernel_regularizer=regularizers.l2(0.001),activation='relu'))\n",
        "    model.add(Dropout(0.25))\n",
        "    model.add(Dense(8, kernel_initializer='normal',  kernel_regularizer=regularizers.l2(0.001),activation='relu'))\n",
        "    model.add(Dropout(0.25))\n",
        "    model.add(Dense(1, activation='sigmoid'))\n",
        "    \n",
        "    # Compile model\n",
        "    adam = Adam(lr=0.001)\n",
        "    model.compile(loss='binary_crossentropy', optimizer='rmsprop', metrics=['accuracy'])\n",
        "    return model\n",
        "\n",
        "binary_model = create_binary_model()\n",
        "\n",
        "print(binary_model.summary())"
      ],
      "execution_count": 69,
      "outputs": [
        {
          "output_type": "stream",
          "text": [
            "Model: \"sequential\"\n",
            "_________________________________________________________________\n",
            "Layer (type)                 Output Shape              Param #   \n",
            "=================================================================\n",
            "dense (Dense)                (None, 16)                224       \n",
            "_________________________________________________________________\n",
            "dropout (Dropout)            (None, 16)                0         \n",
            "_________________________________________________________________\n",
            "dense_1 (Dense)              (None, 8)                 136       \n",
            "_________________________________________________________________\n",
            "dropout_1 (Dropout)          (None, 8)                 0         \n",
            "_________________________________________________________________\n",
            "dense_2 (Dense)              (None, 1)                 9         \n",
            "=================================================================\n",
            "Total params: 369\n",
            "Trainable params: 369\n",
            "Non-trainable params: 0\n",
            "_________________________________________________________________\n",
            "None\n"
          ],
          "name": "stdout"
        }
      ]
    },
    {
      "cell_type": "code",
      "metadata": {
        "id": "haHD1aegRg0L",
        "outputId": "609f77e4-e91e-406b-e06e-6c1e8e7dc7b6",
        "colab": {
          "base_uri": "https://localhost:8080/",
          "height": 1000
        }
      },
      "source": [
        "# fit the binary model on the training data\n",
        "history=binary_model.fit(X_train, Y_train_binary, validation_data=(X_test, Y_test_binary), epochs=50, batch_size=10)"
      ],
      "execution_count": 70,
      "outputs": [
        {
          "output_type": "stream",
          "text": [
            "Epoch 1/50\n",
            "24/24 [==============================] - 0s 11ms/step - loss: 0.6885 - accuracy: 0.6118 - val_loss: 0.6759 - val_accuracy: 0.7833\n",
            "Epoch 2/50\n",
            "24/24 [==============================] - 0s 4ms/step - loss: 0.6662 - accuracy: 0.7342 - val_loss: 0.6402 - val_accuracy: 0.8500\n",
            "Epoch 3/50\n",
            "24/24 [==============================] - 0s 4ms/step - loss: 0.6427 - accuracy: 0.7679 - val_loss: 0.6000 - val_accuracy: 0.8500\n",
            "Epoch 4/50\n",
            "24/24 [==============================] - 0s 4ms/step - loss: 0.5977 - accuracy: 0.8101 - val_loss: 0.5477 - val_accuracy: 0.8500\n",
            "Epoch 5/50\n",
            "24/24 [==============================] - 0s 4ms/step - loss: 0.5552 - accuracy: 0.8186 - val_loss: 0.4944 - val_accuracy: 0.8500\n",
            "Epoch 6/50\n",
            "24/24 [==============================] - 0s 4ms/step - loss: 0.5180 - accuracy: 0.8354 - val_loss: 0.4450 - val_accuracy: 0.8667\n",
            "Epoch 7/50\n",
            "24/24 [==============================] - 0s 4ms/step - loss: 0.5068 - accuracy: 0.8059 - val_loss: 0.4086 - val_accuracy: 0.8667\n",
            "Epoch 8/50\n",
            "24/24 [==============================] - 0s 4ms/step - loss: 0.4573 - accuracy: 0.8228 - val_loss: 0.3768 - val_accuracy: 0.8667\n",
            "Epoch 9/50\n",
            "24/24 [==============================] - 0s 4ms/step - loss: 0.4462 - accuracy: 0.8397 - val_loss: 0.3566 - val_accuracy: 0.8667\n",
            "Epoch 10/50\n",
            "24/24 [==============================] - 0s 4ms/step - loss: 0.4468 - accuracy: 0.8228 - val_loss: 0.3446 - val_accuracy: 0.8667\n",
            "Epoch 11/50\n",
            "24/24 [==============================] - 0s 4ms/step - loss: 0.4181 - accuracy: 0.8228 - val_loss: 0.3349 - val_accuracy: 0.8667\n",
            "Epoch 12/50\n",
            "24/24 [==============================] - 0s 4ms/step - loss: 0.4196 - accuracy: 0.8312 - val_loss: 0.3306 - val_accuracy: 0.8667\n",
            "Epoch 13/50\n",
            "24/24 [==============================] - 0s 4ms/step - loss: 0.4021 - accuracy: 0.8270 - val_loss: 0.3252 - val_accuracy: 0.8667\n",
            "Epoch 14/50\n",
            "24/24 [==============================] - 0s 4ms/step - loss: 0.4173 - accuracy: 0.8439 - val_loss: 0.3227 - val_accuracy: 0.8500\n",
            "Epoch 15/50\n",
            "24/24 [==============================] - 0s 4ms/step - loss: 0.4171 - accuracy: 0.8312 - val_loss: 0.3191 - val_accuracy: 0.8500\n",
            "Epoch 16/50\n",
            "24/24 [==============================] - 0s 4ms/step - loss: 0.4161 - accuracy: 0.8397 - val_loss: 0.3214 - val_accuracy: 0.8500\n",
            "Epoch 17/50\n",
            "24/24 [==============================] - 0s 4ms/step - loss: 0.3950 - accuracy: 0.8397 - val_loss: 0.3207 - val_accuracy: 0.8500\n",
            "Epoch 18/50\n",
            "24/24 [==============================] - 0s 4ms/step - loss: 0.3870 - accuracy: 0.8312 - val_loss: 0.3198 - val_accuracy: 0.8500\n",
            "Epoch 19/50\n",
            "24/24 [==============================] - 0s 4ms/step - loss: 0.3964 - accuracy: 0.8523 - val_loss: 0.3210 - val_accuracy: 0.8500\n",
            "Epoch 20/50\n",
            "24/24 [==============================] - 0s 4ms/step - loss: 0.3923 - accuracy: 0.8608 - val_loss: 0.3243 - val_accuracy: 0.8500\n",
            "Epoch 21/50\n",
            "24/24 [==============================] - 0s 4ms/step - loss: 0.3654 - accuracy: 0.8565 - val_loss: 0.3263 - val_accuracy: 0.8500\n",
            "Epoch 22/50\n",
            "24/24 [==============================] - 0s 4ms/step - loss: 0.4154 - accuracy: 0.8312 - val_loss: 0.3264 - val_accuracy: 0.8500\n",
            "Epoch 23/50\n",
            "24/24 [==============================] - 0s 4ms/step - loss: 0.3794 - accuracy: 0.8692 - val_loss: 0.3244 - val_accuracy: 0.8500\n",
            "Epoch 24/50\n",
            "24/24 [==============================] - 0s 4ms/step - loss: 0.3957 - accuracy: 0.8523 - val_loss: 0.3256 - val_accuracy: 0.8500\n",
            "Epoch 25/50\n",
            "24/24 [==============================] - 0s 4ms/step - loss: 0.3675 - accuracy: 0.8523 - val_loss: 0.3254 - val_accuracy: 0.8500\n",
            "Epoch 26/50\n",
            "24/24 [==============================] - 0s 4ms/step - loss: 0.3841 - accuracy: 0.8608 - val_loss: 0.3251 - val_accuracy: 0.8500\n",
            "Epoch 27/50\n",
            "24/24 [==============================] - 0s 4ms/step - loss: 0.3713 - accuracy: 0.8608 - val_loss: 0.3278 - val_accuracy: 0.8500\n",
            "Epoch 28/50\n",
            "24/24 [==============================] - 0s 4ms/step - loss: 0.3512 - accuracy: 0.8650 - val_loss: 0.3287 - val_accuracy: 0.8500\n",
            "Epoch 29/50\n",
            "24/24 [==============================] - 0s 4ms/step - loss: 0.3888 - accuracy: 0.8565 - val_loss: 0.3311 - val_accuracy: 0.8500\n",
            "Epoch 30/50\n",
            "24/24 [==============================] - 0s 4ms/step - loss: 0.3428 - accuracy: 0.8650 - val_loss: 0.3302 - val_accuracy: 0.8500\n",
            "Epoch 31/50\n",
            "24/24 [==============================] - 0s 4ms/step - loss: 0.3609 - accuracy: 0.8650 - val_loss: 0.3329 - val_accuracy: 0.8500\n",
            "Epoch 32/50\n",
            "24/24 [==============================] - 0s 4ms/step - loss: 0.3540 - accuracy: 0.8439 - val_loss: 0.3336 - val_accuracy: 0.8500\n",
            "Epoch 33/50\n",
            "24/24 [==============================] - 0s 4ms/step - loss: 0.3838 - accuracy: 0.8565 - val_loss: 0.3349 - val_accuracy: 0.8333\n",
            "Epoch 34/50\n",
            "24/24 [==============================] - 0s 4ms/step - loss: 0.3535 - accuracy: 0.8692 - val_loss: 0.3374 - val_accuracy: 0.8500\n",
            "Epoch 35/50\n",
            "24/24 [==============================] - 0s 4ms/step - loss: 0.3697 - accuracy: 0.8608 - val_loss: 0.3399 - val_accuracy: 0.8333\n",
            "Epoch 36/50\n",
            "24/24 [==============================] - 0s 4ms/step - loss: 0.3592 - accuracy: 0.8734 - val_loss: 0.3442 - val_accuracy: 0.8500\n",
            "Epoch 37/50\n",
            "24/24 [==============================] - 0s 4ms/step - loss: 0.3667 - accuracy: 0.8776 - val_loss: 0.3452 - val_accuracy: 0.8333\n",
            "Epoch 38/50\n",
            "24/24 [==============================] - 0s 4ms/step - loss: 0.3352 - accuracy: 0.8734 - val_loss: 0.3486 - val_accuracy: 0.8667\n",
            "Epoch 39/50\n",
            "24/24 [==============================] - 0s 4ms/step - loss: 0.3841 - accuracy: 0.8734 - val_loss: 0.3547 - val_accuracy: 0.8500\n",
            "Epoch 40/50\n",
            "24/24 [==============================] - 0s 4ms/step - loss: 0.3740 - accuracy: 0.8692 - val_loss: 0.3544 - val_accuracy: 0.8500\n",
            "Epoch 41/50\n",
            "24/24 [==============================] - 0s 4ms/step - loss: 0.3839 - accuracy: 0.8692 - val_loss: 0.3514 - val_accuracy: 0.8500\n",
            "Epoch 42/50\n",
            "24/24 [==============================] - 0s 4ms/step - loss: 0.3551 - accuracy: 0.8608 - val_loss: 0.3506 - val_accuracy: 0.8333\n",
            "Epoch 43/50\n",
            "24/24 [==============================] - 0s 4ms/step - loss: 0.3436 - accuracy: 0.8819 - val_loss: 0.3522 - val_accuracy: 0.8333\n",
            "Epoch 44/50\n",
            "24/24 [==============================] - 0s 4ms/step - loss: 0.3329 - accuracy: 0.8861 - val_loss: 0.3545 - val_accuracy: 0.8333\n",
            "Epoch 45/50\n",
            "24/24 [==============================] - 0s 4ms/step - loss: 0.3720 - accuracy: 0.8692 - val_loss: 0.3527 - val_accuracy: 0.8333\n",
            "Epoch 46/50\n",
            "24/24 [==============================] - 0s 4ms/step - loss: 0.3407 - accuracy: 0.8819 - val_loss: 0.3553 - val_accuracy: 0.8333\n",
            "Epoch 47/50\n",
            "24/24 [==============================] - 0s 4ms/step - loss: 0.3408 - accuracy: 0.8692 - val_loss: 0.3557 - val_accuracy: 0.8333\n",
            "Epoch 48/50\n",
            "24/24 [==============================] - 0s 4ms/step - loss: 0.3641 - accuracy: 0.8861 - val_loss: 0.3601 - val_accuracy: 0.8333\n",
            "Epoch 49/50\n",
            "24/24 [==============================] - 0s 4ms/step - loss: 0.3277 - accuracy: 0.8819 - val_loss: 0.3619 - val_accuracy: 0.8333\n",
            "Epoch 50/50\n",
            "24/24 [==============================] - 0s 4ms/step - loss: 0.3442 - accuracy: 0.8819 - val_loss: 0.3621 - val_accuracy: 0.8333\n"
          ],
          "name": "stdout"
        }
      ]
    },
    {
      "cell_type": "code",
      "metadata": {
        "id": "XZRgEdlnR_hh",
        "outputId": "34d55c8b-30db-4471-e981-1d1a3da78efa",
        "colab": {
          "base_uri": "https://localhost:8080/",
          "height": 324
        }
      },
      "source": [
        "plt.figure(0)\n",
        "plt.plot(history.history['accuracy'], label='Training Accuracy')\n",
        "plt.plot(history.history['val_accuracy'], label='Validation Accuracy')\n",
        "plt.title('Change in Accuracy')\n",
        "plt.xlabel('epochs')\n",
        "plt.ylabel('accuracy')\n",
        "plt.legend()"
      ],
      "execution_count": 71,
      "outputs": [
        {
          "output_type": "execute_result",
          "data": {
            "text/plain": [
              "<matplotlib.legend.Legend at 0x7fc9e016bcf8>"
            ]
          },
          "metadata": {
            "tags": []
          },
          "execution_count": 71
        },
        {
          "output_type": "display_data",
          "data": {
            "image/png": "[encoded data removed]",
            "text/plain": [
              "<Figure size 432x288 with 1 Axes>"
            ]
          },
          "metadata": {
            "tags": []
          }
        }
      ]
    },
    {
      "cell_type": "code",
      "metadata": {
        "id": "osUi6kfESHYE",
        "outputId": "600bdab0-e1b3-45ad-bd78-7dfccfb0d8fc",
        "colab": {
          "base_uri": "https://localhost:8080/",
          "height": 306
        }
      },
      "source": [
        "# Plotting the loss function vs epochs\n",
        "\n",
        "plt.figure(1)\n",
        "plt.plot(history.history['loss'], label='Training Loss')\n",
        "plt.plot(history.history['val_loss'], label='Validation Loss')\n",
        "plt.title('Change in the Loss Function')\n",
        "plt.xlabel('epochs')\n",
        "plt.ylabel('Loss')\n",
        "plt.legend()\n",
        "plt.show()"
      ],
      "execution_count": 72,
      "outputs": [
        {
          "output_type": "display_data",
          "data": {
            "image/png": "[encoded data removed]",
            "text/plain": [
              "<Figure size 432x288 with 1 Axes>"
            ]
          },
          "metadata": {
            "tags": []
          }
        }
      ]
    },
    {
      "cell_type": "code",
      "metadata": {
        "id": "KAPMWnPdSS8B",
        "outputId": "39a72c58-01aa-4b27-810d-65b938cce5f9",
        "colab": {
          "base_uri": "https://localhost:8080/",
          "height": 208
        }
      },
      "source": [
        "# generate classification report using predictions for binary model\n",
        "from sklearn.metrics import classification_report, accuracy_score\n",
        "# generate classification report using predictions for binary model \n",
        "binary_pred = np.round(binary_model.predict(X_test)).astype(int)\n",
        "\n",
        "print('Results for Binary Model')\n",
        "print(accuracy_score(Y_test_binary, binary_pred))\n",
        "print(classification_report(Y_test_binary, binary_pred))"
      ],
      "execution_count": 73,
      "outputs": [
        {
          "output_type": "stream",
          "text": [
            "Results for Binary Model\n",
            "0.8333333333333334\n",
            "              precision    recall  f1-score   support\n",
            "\n",
            "           0       0.82      0.88      0.85        32\n",
            "           1       0.85      0.79      0.81        28\n",
            "\n",
            "    accuracy                           0.83        60\n",
            "   macro avg       0.83      0.83      0.83        60\n",
            "weighted avg       0.83      0.83      0.83        60\n",
            "\n"
          ],
          "name": "stdout"
        }
      ]
    },
    {
      "cell_type": "markdown",
      "metadata": {
        "id": "ZdowBL5Jdu37"
      },
      "source": [
        "# Conclusion"
      ]
    },
    {
      "cell_type": "markdown",
      "metadata": {
        "id": "bdSq1QDDdySD"
      },
      "source": [
        "* For the baseline methods the folowing was the performance of the models\n",
        "-- Algorithm is knn 0.5\n",
        "-- Algorithm is rf 0.5777777777777777\n",
        "-- Algorithm is ab 0.5333333333333333\n",
        "-- Algorithm is gb 0.5555555555555556\n",
        "* the rf performed better to any other model of the algorithm\n"
      ]
    },
    {
      "cell_type": "markdown",
      "metadata": {
        "id": "mEPKIXw5enP8"
      },
      "source": [
        "* For the classifiers the following was the score\n",
        "-- Poly Accuracy Score: 0.5\n",
        "-- RBFclassifier Accuracy Score: 0.5\n",
        "-- Sigmoidclassifier Accuracy Score: 0.5\n",
        "\n",
        "* the models performed equally the same"
      ]
    },
    {
      "cell_type": "markdown",
      "metadata": {
        "id": "oTgnTROafJ39"
      },
      "source": [
        "* The neural network model of the binary model performed as follows\n",
        "-- Results for Binary Model  0.8333333333333334"
      ]
    },
    {
      "cell_type": "markdown",
      "metadata": {
        "id": "-LK4tcYOfVih"
      },
      "source": [
        "* We were able to improve the model performance with the neural network\n",
        "* The accuracy score improved the model performance, hence able to improve on our prediction"
      ]
    }
  ]
}